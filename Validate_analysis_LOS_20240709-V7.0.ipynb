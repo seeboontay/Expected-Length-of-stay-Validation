{
 "cells": [
  {
   "cell_type": "markdown",
   "id": "b024b2e5",
   "metadata": {},
   "source": [
    "Problem statement: GCTO has developed and deployed a ML model to predict the LOS for admission in EAI. The prediction will be triggered once the clinical note has been changed or updated. To get the highest accuracy, clinician should refer the latest prediction based on the most updated clinical note.\n",
    "\n",
    "Datasource: EPIC\n",
    "Time: 1/1/2024 to 4/4/2024\n",
    "\n",
    "Aim:To validate and analyze the pattern , descrepancy and potential factor that affect prediction outcome. "
   ]
  },
  {
   "cell_type": "code",
   "execution_count": 212,
   "id": "d7f89dd3",
   "metadata": {},
   "outputs": [],
   "source": [
    "import numpy as np\n",
    "import pandas as pd\n",
    "import matplotlib.pyplot as plt\n",
    "%matplotlib inline\n",
    "import seaborn as sns"
   ]
  },
  {
   "cell_type": "code",
   "execution_count": 213,
   "id": "ce89e573",
   "metadata": {},
   "outputs": [
    {
     "data": {
      "text/html": [
       "<div>\n",
       "<style scoped>\n",
       "    .dataframe tbody tr th:only-of-type {\n",
       "        vertical-align: middle;\n",
       "    }\n",
       "\n",
       "    .dataframe tbody tr th {\n",
       "        vertical-align: top;\n",
       "    }\n",
       "\n",
       "    .dataframe thead th {\n",
       "        text-align: right;\n",
       "    }\n",
       "</style>\n",
       "<table border=\"1\" class=\"dataframe\">\n",
       "  <thead>\n",
       "    <tr style=\"text-align: right;\">\n",
       "      <th></th>\n",
       "      <th>Dummy_PATIENT_ID</th>\n",
       "      <th>Dummy_BILL_ID</th>\n",
       "      <th>BIRTH_DATE</th>\n",
       "      <th>SEX</th>\n",
       "      <th>SEX.1</th>\n",
       "      <th>HOSP_ADMSN_TIME</th>\n",
       "      <th>HOSP_DISCH_TIME</th>\n",
       "      <th>MEAS_VALUE</th>\n",
       "      <th>RECORDED_TIME</th>\n",
       "      <th>ENTRY_TIME</th>\n",
       "    </tr>\n",
       "  </thead>\n",
       "  <tbody>\n",
       "    <tr>\n",
       "      <th>0</th>\n",
       "      <td>8.435241e+09</td>\n",
       "      <td>4218863908</td>\n",
       "      <td>20/04/1935</td>\n",
       "      <td>NaN</td>\n",
       "      <td>Male</td>\n",
       "      <td>01/01/2024 10:44</td>\n",
       "      <td>12/01/2024 9:34</td>\n",
       "      <td>9</td>\n",
       "      <td>01/01/2024 13:57</td>\n",
       "      <td>01/01/2024 13:58</td>\n",
       "    </tr>\n",
       "    <tr>\n",
       "      <th>1</th>\n",
       "      <td>8.435241e+09</td>\n",
       "      <td>4218863908</td>\n",
       "      <td>20/04/1935</td>\n",
       "      <td>NaN</td>\n",
       "      <td>Male</td>\n",
       "      <td>01/01/2024 10:44</td>\n",
       "      <td>12/01/2024 9:34</td>\n",
       "      <td>10</td>\n",
       "      <td>01/01/2024 14:41</td>\n",
       "      <td>01/01/2024 14:41</td>\n",
       "    </tr>\n",
       "    <tr>\n",
       "      <th>2</th>\n",
       "      <td>8.435241e+09</td>\n",
       "      <td>4218863908</td>\n",
       "      <td>20/04/1935</td>\n",
       "      <td>NaN</td>\n",
       "      <td>Male</td>\n",
       "      <td>01/01/2024 10:44</td>\n",
       "      <td>12/01/2024 9:34</td>\n",
       "      <td>10</td>\n",
       "      <td>01/01/2024 15:03</td>\n",
       "      <td>01/01/2024 15:04</td>\n",
       "    </tr>\n",
       "    <tr>\n",
       "      <th>3</th>\n",
       "      <td>6.313729e+09</td>\n",
       "      <td>1626349315</td>\n",
       "      <td>03/03/1953</td>\n",
       "      <td>NaN</td>\n",
       "      <td>Female</td>\n",
       "      <td>01/01/2024 10:09</td>\n",
       "      <td>03/01/2024 14:20</td>\n",
       "      <td>4</td>\n",
       "      <td>01/01/2024 14:30</td>\n",
       "      <td>01/01/2024 14:30</td>\n",
       "    </tr>\n",
       "    <tr>\n",
       "      <th>4</th>\n",
       "      <td>8.070266e+09</td>\n",
       "      <td>1402760992</td>\n",
       "      <td>12/11/1968</td>\n",
       "      <td>NaN</td>\n",
       "      <td>Male</td>\n",
       "      <td>01/01/2024 11:52</td>\n",
       "      <td>04/01/2024 13:58</td>\n",
       "      <td>2</td>\n",
       "      <td>01/01/2024 16:42</td>\n",
       "      <td>01/01/2024 16:42</td>\n",
       "    </tr>\n",
       "  </tbody>\n",
       "</table>\n",
       "</div>"
      ],
      "text/plain": [
       "   Dummy_PATIENT_ID  Dummy_BILL_ID  BIRTH_DATE  SEX   SEX.1   HOSP_ADMSN_TIME  \\\n",
       "0      8.435241e+09     4218863908  20/04/1935  NaN    Male  01/01/2024 10:44   \n",
       "1      8.435241e+09     4218863908  20/04/1935  NaN    Male  01/01/2024 10:44   \n",
       "2      8.435241e+09     4218863908  20/04/1935  NaN    Male  01/01/2024 10:44   \n",
       "3      6.313729e+09     1626349315  03/03/1953  NaN  Female  01/01/2024 10:09   \n",
       "4      8.070266e+09     1402760992  12/11/1968  NaN    Male  01/01/2024 11:52   \n",
       "\n",
       "    HOSP_DISCH_TIME  MEAS_VALUE     RECORDED_TIME        ENTRY_TIME  \n",
       "0   12/01/2024 9:34           9  01/01/2024 13:57  01/01/2024 13:58  \n",
       "1   12/01/2024 9:34          10  01/01/2024 14:41  01/01/2024 14:41  \n",
       "2   12/01/2024 9:34          10  01/01/2024 15:03  01/01/2024 15:04  \n",
       "3  03/01/2024 14:20           4  01/01/2024 14:30  01/01/2024 14:30  \n",
       "4  04/01/2024 13:58           2  01/01/2024 16:42  01/01/2024 16:42  "
      ]
     },
     "execution_count": 213,
     "metadata": {},
     "output_type": "execute_result"
    }
   ],
   "source": [
    "df = pd.read_csv(\"LOS_eLOS.csv\")\n",
    "df.head()"
   ]
  },
  {
   "cell_type": "code",
   "execution_count": 214,
   "id": "2acd3d30",
   "metadata": {},
   "outputs": [
    {
     "name": "stdout",
     "output_type": "stream",
     "text": [
      "<class 'pandas.core.frame.DataFrame'>\n",
      "RangeIndex: 5374 entries, 0 to 5373\n",
      "Data columns (total 10 columns):\n",
      " #   Column            Non-Null Count  Dtype  \n",
      "---  ------            --------------  -----  \n",
      " 0   Dummy_PATIENT_ID  5325 non-null   float64\n",
      " 1   Dummy_BILL_ID     5374 non-null   int64  \n",
      " 2   BIRTH_DATE        5374 non-null   object \n",
      " 3   SEX               0 non-null      float64\n",
      " 4   SEX.1             5374 non-null   object \n",
      " 5   HOSP_ADMSN_TIME   5374 non-null   object \n",
      " 6   HOSP_DISCH_TIME   5374 non-null   object \n",
      " 7   MEAS_VALUE        5374 non-null   int64  \n",
      " 8   RECORDED_TIME     5374 non-null   object \n",
      " 9   ENTRY_TIME        5374 non-null   object \n",
      "dtypes: float64(2), int64(2), object(6)\n",
      "memory usage: 420.0+ KB\n"
     ]
    },
    {
     "data": {
      "text/plain": [
       "(5374, 10)"
      ]
     },
     "execution_count": 214,
     "metadata": {},
     "output_type": "execute_result"
    }
   ],
   "source": [
    "df.info()\n",
    "df.shape"
   ]
  },
  {
   "cell_type": "code",
   "execution_count": 215,
   "id": "8ccf6de3",
   "metadata": {},
   "outputs": [
    {
     "data": {
      "text/html": [
       "<div>\n",
       "<style scoped>\n",
       "    .dataframe tbody tr th:only-of-type {\n",
       "        vertical-align: middle;\n",
       "    }\n",
       "\n",
       "    .dataframe tbody tr th {\n",
       "        vertical-align: top;\n",
       "    }\n",
       "\n",
       "    .dataframe thead th {\n",
       "        text-align: right;\n",
       "    }\n",
       "</style>\n",
       "<table border=\"1\" class=\"dataframe\">\n",
       "  <thead>\n",
       "    <tr style=\"text-align: right;\">\n",
       "      <th></th>\n",
       "      <th>Dummy_PATIENT_ID</th>\n",
       "      <th>Dummy_BILL_ID</th>\n",
       "      <th>SEX</th>\n",
       "      <th>MEAS_VALUE</th>\n",
       "    </tr>\n",
       "  </thead>\n",
       "  <tbody>\n",
       "    <tr>\n",
       "      <th>count</th>\n",
       "      <td>5.325000e+03</td>\n",
       "      <td>5.374000e+03</td>\n",
       "      <td>0.0</td>\n",
       "      <td>5374.000000</td>\n",
       "    </tr>\n",
       "    <tr>\n",
       "      <th>mean</th>\n",
       "      <td>5.122917e+09</td>\n",
       "      <td>4.784003e+09</td>\n",
       "      <td>NaN</td>\n",
       "      <td>5.569967</td>\n",
       "    </tr>\n",
       "    <tr>\n",
       "      <th>std</th>\n",
       "      <td>2.830316e+09</td>\n",
       "      <td>2.902304e+09</td>\n",
       "      <td>NaN</td>\n",
       "      <td>2.658530</td>\n",
       "    </tr>\n",
       "    <tr>\n",
       "      <th>min</th>\n",
       "      <td>1.225175e+07</td>\n",
       "      <td>1.309373e+07</td>\n",
       "      <td>NaN</td>\n",
       "      <td>0.000000</td>\n",
       "    </tr>\n",
       "    <tr>\n",
       "      <th>25%</th>\n",
       "      <td>2.749799e+09</td>\n",
       "      <td>2.232432e+09</td>\n",
       "      <td>NaN</td>\n",
       "      <td>4.000000</td>\n",
       "    </tr>\n",
       "    <tr>\n",
       "      <th>50%</th>\n",
       "      <td>5.221654e+09</td>\n",
       "      <td>4.736277e+09</td>\n",
       "      <td>NaN</td>\n",
       "      <td>5.000000</td>\n",
       "    </tr>\n",
       "    <tr>\n",
       "      <th>75%</th>\n",
       "      <td>7.440391e+09</td>\n",
       "      <td>7.235237e+09</td>\n",
       "      <td>NaN</td>\n",
       "      <td>7.000000</td>\n",
       "    </tr>\n",
       "    <tr>\n",
       "      <th>max</th>\n",
       "      <td>9.993029e+09</td>\n",
       "      <td>9.996097e+09</td>\n",
       "      <td>NaN</td>\n",
       "      <td>24.000000</td>\n",
       "    </tr>\n",
       "  </tbody>\n",
       "</table>\n",
       "</div>"
      ],
      "text/plain": [
       "       Dummy_PATIENT_ID  Dummy_BILL_ID  SEX   MEAS_VALUE\n",
       "count      5.325000e+03   5.374000e+03  0.0  5374.000000\n",
       "mean       5.122917e+09   4.784003e+09  NaN     5.569967\n",
       "std        2.830316e+09   2.902304e+09  NaN     2.658530\n",
       "min        1.225175e+07   1.309373e+07  NaN     0.000000\n",
       "25%        2.749799e+09   2.232432e+09  NaN     4.000000\n",
       "50%        5.221654e+09   4.736277e+09  NaN     5.000000\n",
       "75%        7.440391e+09   7.235237e+09  NaN     7.000000\n",
       "max        9.993029e+09   9.996097e+09  NaN    24.000000"
      ]
     },
     "execution_count": 215,
     "metadata": {},
     "output_type": "execute_result"
    }
   ],
   "source": [
    "df.describe()"
   ]
  },
  {
   "cell_type": "markdown",
   "id": "4e7114b5",
   "metadata": {},
   "source": [
    "\n",
    "The raw dataset contains of 5374 rows and 10 columns . The average expected LOS is between 5.57days. The maximum days is 24.\n"
   ]
  },
  {
   "cell_type": "markdown",
   "id": "e82cf85d",
   "metadata": {},
   "source": [
    "# Data Wrangling"
   ]
  },
  {
   "cell_type": "code",
   "execution_count": 216,
   "id": "81e4011e",
   "metadata": {},
   "outputs": [
    {
     "data": {
      "text/plain": [
       "0"
      ]
     },
     "execution_count": 216,
     "metadata": {},
     "output_type": "execute_result"
    }
   ],
   "source": [
    "# checking for duplicated value\n",
    "df.duplicated().sum()"
   ]
  },
  {
   "cell_type": "code",
   "execution_count": 217,
   "id": "1f001d32",
   "metadata": {},
   "outputs": [
    {
     "data": {
      "text/plain": [
       "Dummy_PATIENT_ID      49\n",
       "Dummy_BILL_ID          0\n",
       "BIRTH_DATE             0\n",
       "SEX                 5374\n",
       "SEX.1                  0\n",
       "HOSP_ADMSN_TIME        0\n",
       "HOSP_DISCH_TIME        0\n",
       "MEAS_VALUE             0\n",
       "RECORDED_TIME          0\n",
       "ENTRY_TIME             0\n",
       "dtype: int64"
      ]
     },
     "execution_count": 217,
     "metadata": {},
     "output_type": "execute_result"
    }
   ],
   "source": [
    "# checking for missing value\n",
    "df.isnull().sum() "
   ]
  },
  {
   "cell_type": "markdown",
   "id": "14c48513",
   "metadata": {},
   "source": [
    "Lets drop the 49 missing values in Patient_ID ( >1%) and SEX column does not contain any values."
   ]
  },
  {
   "cell_type": "code",
   "execution_count": 218,
   "id": "5b5672de",
   "metadata": {},
   "outputs": [
    {
     "data": {
      "text/plain": [
       "1395"
      ]
     },
     "execution_count": 218,
     "metadata": {},
     "output_type": "execute_result"
    }
   ],
   "source": [
    "# check # of patients\n",
    "df[\"Dummy_PATIENT_ID\"].nunique()"
   ]
  },
  {
   "cell_type": "code",
   "execution_count": 219,
   "id": "db60c9cf",
   "metadata": {},
   "outputs": [
    {
     "data": {
      "text/html": [
       "<div>\n",
       "<style scoped>\n",
       "    .dataframe tbody tr th:only-of-type {\n",
       "        vertical-align: middle;\n",
       "    }\n",
       "\n",
       "    .dataframe tbody tr th {\n",
       "        vertical-align: top;\n",
       "    }\n",
       "\n",
       "    .dataframe thead th {\n",
       "        text-align: right;\n",
       "    }\n",
       "</style>\n",
       "<table border=\"1\" class=\"dataframe\">\n",
       "  <thead>\n",
       "    <tr style=\"text-align: right;\">\n",
       "      <th></th>\n",
       "      <th>PATIENT_ID</th>\n",
       "      <th>BILL_ID</th>\n",
       "      <th>BIRTH_DATE</th>\n",
       "      <th>SEX</th>\n",
       "      <th>HOSP_ADMSN_TIME</th>\n",
       "      <th>HOSP_DISCH_TIME</th>\n",
       "      <th>ELOS</th>\n",
       "      <th>RECORDED_TIME</th>\n",
       "      <th>ENTRY_TIME</th>\n",
       "    </tr>\n",
       "  </thead>\n",
       "  <tbody>\n",
       "    <tr>\n",
       "      <th>0</th>\n",
       "      <td>8.435241e+09</td>\n",
       "      <td>4218863908</td>\n",
       "      <td>20/04/1935</td>\n",
       "      <td>Male</td>\n",
       "      <td>01/01/2024 10:44</td>\n",
       "      <td>12/01/2024 9:34</td>\n",
       "      <td>9</td>\n",
       "      <td>01/01/2024 13:57</td>\n",
       "      <td>01/01/2024 13:58</td>\n",
       "    </tr>\n",
       "    <tr>\n",
       "      <th>1</th>\n",
       "      <td>8.435241e+09</td>\n",
       "      <td>4218863908</td>\n",
       "      <td>20/04/1935</td>\n",
       "      <td>Male</td>\n",
       "      <td>01/01/2024 10:44</td>\n",
       "      <td>12/01/2024 9:34</td>\n",
       "      <td>10</td>\n",
       "      <td>01/01/2024 14:41</td>\n",
       "      <td>01/01/2024 14:41</td>\n",
       "    </tr>\n",
       "    <tr>\n",
       "      <th>2</th>\n",
       "      <td>8.435241e+09</td>\n",
       "      <td>4218863908</td>\n",
       "      <td>20/04/1935</td>\n",
       "      <td>Male</td>\n",
       "      <td>01/01/2024 10:44</td>\n",
       "      <td>12/01/2024 9:34</td>\n",
       "      <td>10</td>\n",
       "      <td>01/01/2024 15:03</td>\n",
       "      <td>01/01/2024 15:04</td>\n",
       "    </tr>\n",
       "    <tr>\n",
       "      <th>3</th>\n",
       "      <td>6.313729e+09</td>\n",
       "      <td>1626349315</td>\n",
       "      <td>03/03/1953</td>\n",
       "      <td>Female</td>\n",
       "      <td>01/01/2024 10:09</td>\n",
       "      <td>03/01/2024 14:20</td>\n",
       "      <td>4</td>\n",
       "      <td>01/01/2024 14:30</td>\n",
       "      <td>01/01/2024 14:30</td>\n",
       "    </tr>\n",
       "    <tr>\n",
       "      <th>4</th>\n",
       "      <td>8.070266e+09</td>\n",
       "      <td>1402760992</td>\n",
       "      <td>12/11/1968</td>\n",
       "      <td>Male</td>\n",
       "      <td>01/01/2024 11:52</td>\n",
       "      <td>04/01/2024 13:58</td>\n",
       "      <td>2</td>\n",
       "      <td>01/01/2024 16:42</td>\n",
       "      <td>01/01/2024 16:42</td>\n",
       "    </tr>\n",
       "  </tbody>\n",
       "</table>\n",
       "</div>"
      ],
      "text/plain": [
       "     PATIENT_ID     BILL_ID  BIRTH_DATE     SEX   HOSP_ADMSN_TIME  \\\n",
       "0  8.435241e+09  4218863908  20/04/1935    Male  01/01/2024 10:44   \n",
       "1  8.435241e+09  4218863908  20/04/1935    Male  01/01/2024 10:44   \n",
       "2  8.435241e+09  4218863908  20/04/1935    Male  01/01/2024 10:44   \n",
       "3  6.313729e+09  1626349315  03/03/1953  Female  01/01/2024 10:09   \n",
       "4  8.070266e+09  1402760992  12/11/1968    Male  01/01/2024 11:52   \n",
       "\n",
       "    HOSP_DISCH_TIME  ELOS     RECORDED_TIME        ENTRY_TIME  \n",
       "0   12/01/2024 9:34     9  01/01/2024 13:57  01/01/2024 13:58  \n",
       "1   12/01/2024 9:34    10  01/01/2024 14:41  01/01/2024 14:41  \n",
       "2   12/01/2024 9:34    10  01/01/2024 15:03  01/01/2024 15:04  \n",
       "3  03/01/2024 14:20     4  01/01/2024 14:30  01/01/2024 14:30  \n",
       "4  04/01/2024 13:58     2  01/01/2024 16:42  01/01/2024 16:42  "
      ]
     },
     "execution_count": 219,
     "metadata": {},
     "output_type": "execute_result"
    }
   ],
   "source": [
    "# drop the SEX \n",
    "df = df.drop('SEX', axis = 1)\n",
    "\n",
    "#rename columns name\n",
    "df = df.rename(columns = {\"Dummy_PATIENT_ID\":\"PATIENT_ID\", \"Dummy_BILL_ID\":\"BILL_ID\",\"SEX.1\":\"SEX\",\"MEAS_VALUE\":\"ELOS\"})\n",
    "df.head()"
   ]
  },
  {
   "cell_type": "code",
   "execution_count": 220,
   "id": "fb6d6b30",
   "metadata": {},
   "outputs": [
    {
     "data": {
      "text/plain": [
       "nan           49\n",
       "9005825802    30\n",
       "6514429945    22\n",
       "9522205516    22\n",
       "4944678123    21\n",
       "              ..\n",
       "7414606020     1\n",
       "5671661545     1\n",
       "5078172410     1\n",
       "9830045746     1\n",
       "2972652563     1\n",
       "Name: PATIENT_ID, Length: 1396, dtype: int64"
      ]
     },
     "execution_count": 220,
     "metadata": {},
     "output_type": "execute_result"
    }
   ],
   "source": [
    "# covert datatype\n",
    "df[\"PATIENT_ID\"] = df[\"PATIENT_ID\"].astype(str)\n",
    "df[\"PATIENT_ID\"] = df[\"PATIENT_ID\"].replace(\"\\.0$\",\"\", regex = True) \n",
    "df[\"PATIENT_ID\"].value_counts() # 49 missing values\n"
   ]
  },
  {
   "cell_type": "code",
   "execution_count": 221,
   "id": "72977d34",
   "metadata": {},
   "outputs": [
    {
     "name": "stdout",
     "output_type": "stream",
     "text": [
      "missing Patient_ID : 49\n"
     ]
    },
    {
     "data": {
      "text/plain": [
       "(5325, 9)"
      ]
     },
     "execution_count": 221,
     "metadata": {},
     "output_type": "execute_result"
    }
   ],
   "source": [
    "# drop the missing values of patientID\n",
    "print(\"missing Patient_ID :\", (df['PATIENT_ID'] == 'nan').sum())\n",
    "\n",
    "df = df[df['PATIENT_ID']!= \"nan\"]\n",
    "df.shape"
   ]
  },
  {
   "cell_type": "code",
   "execution_count": 222,
   "id": "c1cd75ee",
   "metadata": {
    "scrolled": true
   },
   "outputs": [],
   "source": [
    "# covert datatype\n",
    "df[\"BIRTH_DATE\"]= pd.to_datetime(df[\"BIRTH_DATE\"], format = \"%d/%m/%Y\")\n",
    "df[[\"HOSP_ADMSN_TIME\", \"HOSP_DISCH_TIME\",\"RECORDED_TIME\",\"ENTRY_TIME\"]] = df[[\"HOSP_ADMSN_TIME\", \"HOSP_DISCH_TIME\",\"RECORDED_TIME\",\"ENTRY_TIME\"]].apply(pd.to_datetime, format = \"%d/%m/%Y %H:%M\")\n"
   ]
  },
  {
   "cell_type": "code",
   "execution_count": 223,
   "id": "21b5944c",
   "metadata": {
    "scrolled": true
   },
   "outputs": [],
   "source": [
    "# create Month column \n",
    "Adm_Month = df[\"HOSP_ADMSN_TIME\"].dt.to_period(\"M\")\n",
    "df.insert(7, \"Adm_Month\", Adm_Month )"
   ]
  },
  {
   "cell_type": "code",
   "execution_count": 224,
   "id": "972d1387",
   "metadata": {},
   "outputs": [],
   "source": [
    "month_map = {\n",
    "    '2024-01': 'Jan',\n",
    "    '2024-02': 'Feb',\n",
    "    '2024-03': 'Mar',\n",
    "    '2024-04': 'Apr'}\n",
    "\n",
    "df['Adm_Month'] = df['Adm_Month'].astype(str).map(month_map)"
   ]
  },
  {
   "cell_type": "code",
   "execution_count": 225,
   "id": "3c703bc3",
   "metadata": {},
   "outputs": [],
   "source": [
    "# Convert datetime to date-only format\n",
    "df[\"HOSP_ADMSN_TIME\"] = df[\"HOSP_ADMSN_TIME\"].dt.date\n",
    "df[\"HOSP_DISCH_TIME\"] = df[\"HOSP_DISCH_TIME\"].dt.date"
   ]
  },
  {
   "cell_type": "code",
   "execution_count": 226,
   "id": "ea3741ca",
   "metadata": {},
   "outputs": [
    {
     "name": "stdout",
     "output_type": "stream",
     "text": [
      "<class 'pandas.core.frame.DataFrame'>\n",
      "Int64Index: 5325 entries, 0 to 5373\n",
      "Data columns (total 10 columns):\n",
      " #   Column           Non-Null Count  Dtype         \n",
      "---  ------           --------------  -----         \n",
      " 0   PATIENT_ID       5325 non-null   object        \n",
      " 1   BILL_ID          5325 non-null   int64         \n",
      " 2   BIRTH_DATE       5325 non-null   datetime64[ns]\n",
      " 3   SEX              5325 non-null   object        \n",
      " 4   HOSP_ADMSN_TIME  5325 non-null   object        \n",
      " 5   HOSP_DISCH_TIME  5325 non-null   object        \n",
      " 6   ELOS             5325 non-null   int64         \n",
      " 7   Adm_Month        5325 non-null   object        \n",
      " 8   RECORDED_TIME    5325 non-null   datetime64[ns]\n",
      " 9   ENTRY_TIME       5325 non-null   datetime64[ns]\n",
      "dtypes: datetime64[ns](3), int64(2), object(5)\n",
      "memory usage: 457.6+ KB\n"
     ]
    }
   ],
   "source": [
    "df.head()\n",
    "df.info()"
   ]
  },
  {
   "cell_type": "code",
   "execution_count": 227,
   "id": "9c7fa7e2",
   "metadata": {},
   "outputs": [
    {
     "data": {
      "text/html": [
       "<div>\n",
       "<style scoped>\n",
       "    .dataframe tbody tr th:only-of-type {\n",
       "        vertical-align: middle;\n",
       "    }\n",
       "\n",
       "    .dataframe tbody tr th {\n",
       "        vertical-align: top;\n",
       "    }\n",
       "\n",
       "    .dataframe thead th {\n",
       "        text-align: right;\n",
       "    }\n",
       "</style>\n",
       "<table border=\"1\" class=\"dataframe\">\n",
       "  <thead>\n",
       "    <tr style=\"text-align: right;\">\n",
       "      <th></th>\n",
       "      <th>PATIENT_ID</th>\n",
       "      <th>BILL_ID</th>\n",
       "      <th>BIRTH_DATE</th>\n",
       "      <th>AGE</th>\n",
       "      <th>SEX</th>\n",
       "      <th>HOSP_ADMSN_TIME</th>\n",
       "      <th>HOSP_DISCH_TIME</th>\n",
       "      <th>ELOS</th>\n",
       "      <th>Adm_Month</th>\n",
       "      <th>RECORDED_TIME</th>\n",
       "      <th>ENTRY_TIME</th>\n",
       "    </tr>\n",
       "  </thead>\n",
       "  <tbody>\n",
       "    <tr>\n",
       "      <th>0</th>\n",
       "      <td>8435240811</td>\n",
       "      <td>4218863908</td>\n",
       "      <td>1935-04-20</td>\n",
       "      <td>89</td>\n",
       "      <td>Male</td>\n",
       "      <td>2024-01-01</td>\n",
       "      <td>2024-01-12</td>\n",
       "      <td>9</td>\n",
       "      <td>Jan</td>\n",
       "      <td>2024-01-01 13:57:00</td>\n",
       "      <td>2024-01-01 13:58:00</td>\n",
       "    </tr>\n",
       "    <tr>\n",
       "      <th>1</th>\n",
       "      <td>8435240811</td>\n",
       "      <td>4218863908</td>\n",
       "      <td>1935-04-20</td>\n",
       "      <td>89</td>\n",
       "      <td>Male</td>\n",
       "      <td>2024-01-01</td>\n",
       "      <td>2024-01-12</td>\n",
       "      <td>10</td>\n",
       "      <td>Jan</td>\n",
       "      <td>2024-01-01 14:41:00</td>\n",
       "      <td>2024-01-01 14:41:00</td>\n",
       "    </tr>\n",
       "    <tr>\n",
       "      <th>2</th>\n",
       "      <td>8435240811</td>\n",
       "      <td>4218863908</td>\n",
       "      <td>1935-04-20</td>\n",
       "      <td>89</td>\n",
       "      <td>Male</td>\n",
       "      <td>2024-01-01</td>\n",
       "      <td>2024-01-12</td>\n",
       "      <td>10</td>\n",
       "      <td>Jan</td>\n",
       "      <td>2024-01-01 15:03:00</td>\n",
       "      <td>2024-01-01 15:04:00</td>\n",
       "    </tr>\n",
       "    <tr>\n",
       "      <th>3</th>\n",
       "      <td>6313729203</td>\n",
       "      <td>1626349315</td>\n",
       "      <td>1953-03-03</td>\n",
       "      <td>71</td>\n",
       "      <td>Female</td>\n",
       "      <td>2024-01-01</td>\n",
       "      <td>2024-01-03</td>\n",
       "      <td>4</td>\n",
       "      <td>Jan</td>\n",
       "      <td>2024-01-01 14:30:00</td>\n",
       "      <td>2024-01-01 14:30:00</td>\n",
       "    </tr>\n",
       "    <tr>\n",
       "      <th>4</th>\n",
       "      <td>8070265503</td>\n",
       "      <td>1402760992</td>\n",
       "      <td>1968-11-12</td>\n",
       "      <td>55</td>\n",
       "      <td>Male</td>\n",
       "      <td>2024-01-01</td>\n",
       "      <td>2024-01-04</td>\n",
       "      <td>2</td>\n",
       "      <td>Jan</td>\n",
       "      <td>2024-01-01 16:42:00</td>\n",
       "      <td>2024-01-01 16:42:00</td>\n",
       "    </tr>\n",
       "    <tr>\n",
       "      <th>...</th>\n",
       "      <td>...</td>\n",
       "      <td>...</td>\n",
       "      <td>...</td>\n",
       "      <td>...</td>\n",
       "      <td>...</td>\n",
       "      <td>...</td>\n",
       "      <td>...</td>\n",
       "      <td>...</td>\n",
       "      <td>...</td>\n",
       "      <td>...</td>\n",
       "      <td>...</td>\n",
       "    </tr>\n",
       "    <tr>\n",
       "      <th>5369</th>\n",
       "      <td>9993029310</td>\n",
       "      <td>9455312842</td>\n",
       "      <td>1968-07-23</td>\n",
       "      <td>55</td>\n",
       "      <td>Female</td>\n",
       "      <td>2024-04-01</td>\n",
       "      <td>2024-04-04</td>\n",
       "      <td>5</td>\n",
       "      <td>Apr</td>\n",
       "      <td>2024-04-02 15:59:00</td>\n",
       "      <td>2024-04-02 15:59:00</td>\n",
       "    </tr>\n",
       "    <tr>\n",
       "      <th>5370</th>\n",
       "      <td>9993029310</td>\n",
       "      <td>9455312842</td>\n",
       "      <td>1968-07-23</td>\n",
       "      <td>55</td>\n",
       "      <td>Female</td>\n",
       "      <td>2024-04-01</td>\n",
       "      <td>2024-04-04</td>\n",
       "      <td>5</td>\n",
       "      <td>Apr</td>\n",
       "      <td>2024-04-02 16:04:00</td>\n",
       "      <td>2024-04-02 16:04:00</td>\n",
       "    </tr>\n",
       "    <tr>\n",
       "      <th>5371</th>\n",
       "      <td>9993029310</td>\n",
       "      <td>9455312842</td>\n",
       "      <td>1968-07-23</td>\n",
       "      <td>55</td>\n",
       "      <td>Female</td>\n",
       "      <td>2024-04-01</td>\n",
       "      <td>2024-04-04</td>\n",
       "      <td>5</td>\n",
       "      <td>Apr</td>\n",
       "      <td>2024-04-02 16:10:00</td>\n",
       "      <td>2024-04-02 16:10:00</td>\n",
       "    </tr>\n",
       "    <tr>\n",
       "      <th>5372</th>\n",
       "      <td>9993029310</td>\n",
       "      <td>9455312842</td>\n",
       "      <td>1968-07-23</td>\n",
       "      <td>55</td>\n",
       "      <td>Female</td>\n",
       "      <td>2024-04-01</td>\n",
       "      <td>2024-04-04</td>\n",
       "      <td>5</td>\n",
       "      <td>Apr</td>\n",
       "      <td>2024-04-02 16:16:00</td>\n",
       "      <td>2024-04-02 16:17:00</td>\n",
       "    </tr>\n",
       "    <tr>\n",
       "      <th>5373</th>\n",
       "      <td>9993029310</td>\n",
       "      <td>9455312842</td>\n",
       "      <td>1968-07-23</td>\n",
       "      <td>55</td>\n",
       "      <td>Female</td>\n",
       "      <td>2024-04-01</td>\n",
       "      <td>2024-04-04</td>\n",
       "      <td>6</td>\n",
       "      <td>Apr</td>\n",
       "      <td>2024-04-02 16:24:00</td>\n",
       "      <td>2024-04-02 16:24:00</td>\n",
       "    </tr>\n",
       "  </tbody>\n",
       "</table>\n",
       "<p>5325 rows × 11 columns</p>\n",
       "</div>"
      ],
      "text/plain": [
       "      PATIENT_ID     BILL_ID BIRTH_DATE  AGE     SEX HOSP_ADMSN_TIME  \\\n",
       "0     8435240811  4218863908 1935-04-20   89    Male      2024-01-01   \n",
       "1     8435240811  4218863908 1935-04-20   89    Male      2024-01-01   \n",
       "2     8435240811  4218863908 1935-04-20   89    Male      2024-01-01   \n",
       "3     6313729203  1626349315 1953-03-03   71  Female      2024-01-01   \n",
       "4     8070265503  1402760992 1968-11-12   55    Male      2024-01-01   \n",
       "...          ...         ...        ...  ...     ...             ...   \n",
       "5369  9993029310  9455312842 1968-07-23   55  Female      2024-04-01   \n",
       "5370  9993029310  9455312842 1968-07-23   55  Female      2024-04-01   \n",
       "5371  9993029310  9455312842 1968-07-23   55  Female      2024-04-01   \n",
       "5372  9993029310  9455312842 1968-07-23   55  Female      2024-04-01   \n",
       "5373  9993029310  9455312842 1968-07-23   55  Female      2024-04-01   \n",
       "\n",
       "     HOSP_DISCH_TIME  ELOS Adm_Month       RECORDED_TIME          ENTRY_TIME  \n",
       "0         2024-01-12     9       Jan 2024-01-01 13:57:00 2024-01-01 13:58:00  \n",
       "1         2024-01-12    10       Jan 2024-01-01 14:41:00 2024-01-01 14:41:00  \n",
       "2         2024-01-12    10       Jan 2024-01-01 15:03:00 2024-01-01 15:04:00  \n",
       "3         2024-01-03     4       Jan 2024-01-01 14:30:00 2024-01-01 14:30:00  \n",
       "4         2024-01-04     2       Jan 2024-01-01 16:42:00 2024-01-01 16:42:00  \n",
       "...              ...   ...       ...                 ...                 ...  \n",
       "5369      2024-04-04     5       Apr 2024-04-02 15:59:00 2024-04-02 15:59:00  \n",
       "5370      2024-04-04     5       Apr 2024-04-02 16:04:00 2024-04-02 16:04:00  \n",
       "5371      2024-04-04     5       Apr 2024-04-02 16:10:00 2024-04-02 16:10:00  \n",
       "5372      2024-04-04     5       Apr 2024-04-02 16:16:00 2024-04-02 16:17:00  \n",
       "5373      2024-04-04     6       Apr 2024-04-02 16:24:00 2024-04-02 16:24:00  \n",
       "\n",
       "[5325 rows x 11 columns]"
      ]
     },
     "execution_count": 227,
     "metadata": {},
     "output_type": "execute_result"
    }
   ],
   "source": [
    "# calculate the age\n",
    "from datetime import datetime\n",
    "\n",
    "current = datetime.now()\n",
    "\n",
    "def cal_age(birthdate):\n",
    "    age = current.year - birthdate.year-((current.month, current.day)<(birthdate.month, birthdate.day))\n",
    "    return age\n",
    "\n",
    "# create \"age\" column and place behind \n",
    "df.insert(3, \"AGE\", df[\"BIRTH_DATE\"].apply(cal_age))\n",
    "df"
   ]
  },
  {
   "cell_type": "code",
   "execution_count": 228,
   "id": "2ed3faa1",
   "metadata": {},
   "outputs": [],
   "source": [
    "# create age group\n",
    "\n",
    "# Define age bins and corresponding labels\n",
    "bins = [18, 29, 49, 69, 89, 110]  # bin edges\n",
    "labels = ['18-29', '30-49', '50-69', '70-89', '90 or older']\n",
    "\n",
    "age_group = pd.cut(df['AGE'], bins=bins, labels=labels, right=True, include_lowest=True)\n",
    "\n",
    "df.insert(4, 'AGE_group', age_group)\n"
   ]
  },
  {
   "cell_type": "code",
   "execution_count": 229,
   "id": "79f29fed",
   "metadata": {},
   "outputs": [
    {
     "data": {
      "text/html": [
       "<div>\n",
       "<style scoped>\n",
       "    .dataframe tbody tr th:only-of-type {\n",
       "        vertical-align: middle;\n",
       "    }\n",
       "\n",
       "    .dataframe tbody tr th {\n",
       "        vertical-align: top;\n",
       "    }\n",
       "\n",
       "    .dataframe thead th {\n",
       "        text-align: right;\n",
       "    }\n",
       "</style>\n",
       "<table border=\"1\" class=\"dataframe\">\n",
       "  <thead>\n",
       "    <tr style=\"text-align: right;\">\n",
       "      <th></th>\n",
       "      <th>PATIENT_ID</th>\n",
       "      <th>BILL_ID</th>\n",
       "      <th>BIRTH_DATE</th>\n",
       "      <th>AGE</th>\n",
       "      <th>AGE_group</th>\n",
       "      <th>SEX</th>\n",
       "      <th>HOSP_ADMSN_TIME</th>\n",
       "      <th>HOSP_DISCH_TIME</th>\n",
       "      <th>ALOS</th>\n",
       "      <th>ELOS</th>\n",
       "      <th>Adm_Month</th>\n",
       "      <th>RECORDED_TIME</th>\n",
       "      <th>ENTRY_TIME</th>\n",
       "    </tr>\n",
       "  </thead>\n",
       "  <tbody>\n",
       "    <tr>\n",
       "      <th>0</th>\n",
       "      <td>8435240811</td>\n",
       "      <td>4218863908</td>\n",
       "      <td>1935-04-20</td>\n",
       "      <td>89</td>\n",
       "      <td>70-89</td>\n",
       "      <td>Male</td>\n",
       "      <td>2024-01-01</td>\n",
       "      <td>2024-01-12</td>\n",
       "      <td>11</td>\n",
       "      <td>9</td>\n",
       "      <td>Jan</td>\n",
       "      <td>2024-01-01 13:57:00</td>\n",
       "      <td>2024-01-01 13:58:00</td>\n",
       "    </tr>\n",
       "    <tr>\n",
       "      <th>1</th>\n",
       "      <td>8435240811</td>\n",
       "      <td>4218863908</td>\n",
       "      <td>1935-04-20</td>\n",
       "      <td>89</td>\n",
       "      <td>70-89</td>\n",
       "      <td>Male</td>\n",
       "      <td>2024-01-01</td>\n",
       "      <td>2024-01-12</td>\n",
       "      <td>11</td>\n",
       "      <td>10</td>\n",
       "      <td>Jan</td>\n",
       "      <td>2024-01-01 14:41:00</td>\n",
       "      <td>2024-01-01 14:41:00</td>\n",
       "    </tr>\n",
       "    <tr>\n",
       "      <th>2</th>\n",
       "      <td>8435240811</td>\n",
       "      <td>4218863908</td>\n",
       "      <td>1935-04-20</td>\n",
       "      <td>89</td>\n",
       "      <td>70-89</td>\n",
       "      <td>Male</td>\n",
       "      <td>2024-01-01</td>\n",
       "      <td>2024-01-12</td>\n",
       "      <td>11</td>\n",
       "      <td>10</td>\n",
       "      <td>Jan</td>\n",
       "      <td>2024-01-01 15:03:00</td>\n",
       "      <td>2024-01-01 15:04:00</td>\n",
       "    </tr>\n",
       "    <tr>\n",
       "      <th>3</th>\n",
       "      <td>6313729203</td>\n",
       "      <td>1626349315</td>\n",
       "      <td>1953-03-03</td>\n",
       "      <td>71</td>\n",
       "      <td>70-89</td>\n",
       "      <td>Female</td>\n",
       "      <td>2024-01-01</td>\n",
       "      <td>2024-01-03</td>\n",
       "      <td>2</td>\n",
       "      <td>4</td>\n",
       "      <td>Jan</td>\n",
       "      <td>2024-01-01 14:30:00</td>\n",
       "      <td>2024-01-01 14:30:00</td>\n",
       "    </tr>\n",
       "    <tr>\n",
       "      <th>4</th>\n",
       "      <td>8070265503</td>\n",
       "      <td>1402760992</td>\n",
       "      <td>1968-11-12</td>\n",
       "      <td>55</td>\n",
       "      <td>50-69</td>\n",
       "      <td>Male</td>\n",
       "      <td>2024-01-01</td>\n",
       "      <td>2024-01-04</td>\n",
       "      <td>3</td>\n",
       "      <td>2</td>\n",
       "      <td>Jan</td>\n",
       "      <td>2024-01-01 16:42:00</td>\n",
       "      <td>2024-01-01 16:42:00</td>\n",
       "    </tr>\n",
       "    <tr>\n",
       "      <th>...</th>\n",
       "      <td>...</td>\n",
       "      <td>...</td>\n",
       "      <td>...</td>\n",
       "      <td>...</td>\n",
       "      <td>...</td>\n",
       "      <td>...</td>\n",
       "      <td>...</td>\n",
       "      <td>...</td>\n",
       "      <td>...</td>\n",
       "      <td>...</td>\n",
       "      <td>...</td>\n",
       "      <td>...</td>\n",
       "      <td>...</td>\n",
       "    </tr>\n",
       "    <tr>\n",
       "      <th>5369</th>\n",
       "      <td>9993029310</td>\n",
       "      <td>9455312842</td>\n",
       "      <td>1968-07-23</td>\n",
       "      <td>55</td>\n",
       "      <td>50-69</td>\n",
       "      <td>Female</td>\n",
       "      <td>2024-04-01</td>\n",
       "      <td>2024-04-04</td>\n",
       "      <td>3</td>\n",
       "      <td>5</td>\n",
       "      <td>Apr</td>\n",
       "      <td>2024-04-02 15:59:00</td>\n",
       "      <td>2024-04-02 15:59:00</td>\n",
       "    </tr>\n",
       "    <tr>\n",
       "      <th>5370</th>\n",
       "      <td>9993029310</td>\n",
       "      <td>9455312842</td>\n",
       "      <td>1968-07-23</td>\n",
       "      <td>55</td>\n",
       "      <td>50-69</td>\n",
       "      <td>Female</td>\n",
       "      <td>2024-04-01</td>\n",
       "      <td>2024-04-04</td>\n",
       "      <td>3</td>\n",
       "      <td>5</td>\n",
       "      <td>Apr</td>\n",
       "      <td>2024-04-02 16:04:00</td>\n",
       "      <td>2024-04-02 16:04:00</td>\n",
       "    </tr>\n",
       "    <tr>\n",
       "      <th>5371</th>\n",
       "      <td>9993029310</td>\n",
       "      <td>9455312842</td>\n",
       "      <td>1968-07-23</td>\n",
       "      <td>55</td>\n",
       "      <td>50-69</td>\n",
       "      <td>Female</td>\n",
       "      <td>2024-04-01</td>\n",
       "      <td>2024-04-04</td>\n",
       "      <td>3</td>\n",
       "      <td>5</td>\n",
       "      <td>Apr</td>\n",
       "      <td>2024-04-02 16:10:00</td>\n",
       "      <td>2024-04-02 16:10:00</td>\n",
       "    </tr>\n",
       "    <tr>\n",
       "      <th>5372</th>\n",
       "      <td>9993029310</td>\n",
       "      <td>9455312842</td>\n",
       "      <td>1968-07-23</td>\n",
       "      <td>55</td>\n",
       "      <td>50-69</td>\n",
       "      <td>Female</td>\n",
       "      <td>2024-04-01</td>\n",
       "      <td>2024-04-04</td>\n",
       "      <td>3</td>\n",
       "      <td>5</td>\n",
       "      <td>Apr</td>\n",
       "      <td>2024-04-02 16:16:00</td>\n",
       "      <td>2024-04-02 16:17:00</td>\n",
       "    </tr>\n",
       "    <tr>\n",
       "      <th>5373</th>\n",
       "      <td>9993029310</td>\n",
       "      <td>9455312842</td>\n",
       "      <td>1968-07-23</td>\n",
       "      <td>55</td>\n",
       "      <td>50-69</td>\n",
       "      <td>Female</td>\n",
       "      <td>2024-04-01</td>\n",
       "      <td>2024-04-04</td>\n",
       "      <td>3</td>\n",
       "      <td>6</td>\n",
       "      <td>Apr</td>\n",
       "      <td>2024-04-02 16:24:00</td>\n",
       "      <td>2024-04-02 16:24:00</td>\n",
       "    </tr>\n",
       "  </tbody>\n",
       "</table>\n",
       "<p>5325 rows × 13 columns</p>\n",
       "</div>"
      ],
      "text/plain": [
       "      PATIENT_ID     BILL_ID BIRTH_DATE  AGE AGE_group     SEX  \\\n",
       "0     8435240811  4218863908 1935-04-20   89     70-89    Male   \n",
       "1     8435240811  4218863908 1935-04-20   89     70-89    Male   \n",
       "2     8435240811  4218863908 1935-04-20   89     70-89    Male   \n",
       "3     6313729203  1626349315 1953-03-03   71     70-89  Female   \n",
       "4     8070265503  1402760992 1968-11-12   55     50-69    Male   \n",
       "...          ...         ...        ...  ...       ...     ...   \n",
       "5369  9993029310  9455312842 1968-07-23   55     50-69  Female   \n",
       "5370  9993029310  9455312842 1968-07-23   55     50-69  Female   \n",
       "5371  9993029310  9455312842 1968-07-23   55     50-69  Female   \n",
       "5372  9993029310  9455312842 1968-07-23   55     50-69  Female   \n",
       "5373  9993029310  9455312842 1968-07-23   55     50-69  Female   \n",
       "\n",
       "     HOSP_ADMSN_TIME HOSP_DISCH_TIME  ALOS  ELOS Adm_Month  \\\n",
       "0         2024-01-01      2024-01-12    11     9       Jan   \n",
       "1         2024-01-01      2024-01-12    11    10       Jan   \n",
       "2         2024-01-01      2024-01-12    11    10       Jan   \n",
       "3         2024-01-01      2024-01-03     2     4       Jan   \n",
       "4         2024-01-01      2024-01-04     3     2       Jan   \n",
       "...              ...             ...   ...   ...       ...   \n",
       "5369      2024-04-01      2024-04-04     3     5       Apr   \n",
       "5370      2024-04-01      2024-04-04     3     5       Apr   \n",
       "5371      2024-04-01      2024-04-04     3     5       Apr   \n",
       "5372      2024-04-01      2024-04-04     3     5       Apr   \n",
       "5373      2024-04-01      2024-04-04     3     6       Apr   \n",
       "\n",
       "           RECORDED_TIME          ENTRY_TIME  \n",
       "0    2024-01-01 13:57:00 2024-01-01 13:58:00  \n",
       "1    2024-01-01 14:41:00 2024-01-01 14:41:00  \n",
       "2    2024-01-01 15:03:00 2024-01-01 15:04:00  \n",
       "3    2024-01-01 14:30:00 2024-01-01 14:30:00  \n",
       "4    2024-01-01 16:42:00 2024-01-01 16:42:00  \n",
       "...                  ...                 ...  \n",
       "5369 2024-04-02 15:59:00 2024-04-02 15:59:00  \n",
       "5370 2024-04-02 16:04:00 2024-04-02 16:04:00  \n",
       "5371 2024-04-02 16:10:00 2024-04-02 16:10:00  \n",
       "5372 2024-04-02 16:16:00 2024-04-02 16:17:00  \n",
       "5373 2024-04-02 16:24:00 2024-04-02 16:24:00  \n",
       "\n",
       "[5325 rows x 13 columns]"
      ]
     },
     "execution_count": 229,
     "metadata": {},
     "output_type": "execute_result"
    }
   ],
   "source": [
    "# calculate the acutal Lenght of stay( ALOS)\n",
    "\n",
    "LOS = (df[\"HOSP_DISCH_TIME\"]-df[\"HOSP_ADMSN_TIME\"]).dt.days\n",
    "\n",
    "df.insert(8,\"ALOS\", LOS)\n",
    "df"
   ]
  },
  {
   "cell_type": "code",
   "execution_count": 230,
   "id": "dcb4e641",
   "metadata": {},
   "outputs": [],
   "source": [
    "# discrepancy between MEAS_VALUE and ALOS\n",
    "disc_days = df[\"ELOS\"]-df[\"ALOS\"]\n",
    "df.insert(10, \"Discrepancy_days\", disc_days )"
   ]
  },
  {
   "cell_type": "code",
   "execution_count": 231,
   "id": "a051f0bd",
   "metadata": {},
   "outputs": [
    {
     "data": {
      "text/html": [
       "<div>\n",
       "<style scoped>\n",
       "    .dataframe tbody tr th:only-of-type {\n",
       "        vertical-align: middle;\n",
       "    }\n",
       "\n",
       "    .dataframe tbody tr th {\n",
       "        vertical-align: top;\n",
       "    }\n",
       "\n",
       "    .dataframe thead th {\n",
       "        text-align: right;\n",
       "    }\n",
       "</style>\n",
       "<table border=\"1\" class=\"dataframe\">\n",
       "  <thead>\n",
       "    <tr style=\"text-align: right;\">\n",
       "      <th></th>\n",
       "      <th>PATIENT_ID</th>\n",
       "      <th>BILL_ID</th>\n",
       "      <th>BIRTH_DATE</th>\n",
       "      <th>AGE</th>\n",
       "      <th>AGE_group</th>\n",
       "      <th>SEX</th>\n",
       "      <th>HOSP_ADMSN_TIME</th>\n",
       "      <th>HOSP_DISCH_TIME</th>\n",
       "      <th>ALOS</th>\n",
       "      <th>ELOS</th>\n",
       "      <th>Discrepancy_days</th>\n",
       "      <th>Adm_Month</th>\n",
       "      <th>RECORDED_TIME</th>\n",
       "      <th>ENTRY_TIME</th>\n",
       "    </tr>\n",
       "  </thead>\n",
       "  <tbody>\n",
       "    <tr>\n",
       "      <th>0</th>\n",
       "      <td>8435240811</td>\n",
       "      <td>4218863908</td>\n",
       "      <td>1935-04-20</td>\n",
       "      <td>89</td>\n",
       "      <td>70-89</td>\n",
       "      <td>Male</td>\n",
       "      <td>2024-01-01</td>\n",
       "      <td>2024-01-12</td>\n",
       "      <td>11</td>\n",
       "      <td>9</td>\n",
       "      <td>-2</td>\n",
       "      <td>Jan</td>\n",
       "      <td>2024-01-01 13:57:00</td>\n",
       "      <td>2024-01-01 13:58:00</td>\n",
       "    </tr>\n",
       "    <tr>\n",
       "      <th>1</th>\n",
       "      <td>8435240811</td>\n",
       "      <td>4218863908</td>\n",
       "      <td>1935-04-20</td>\n",
       "      <td>89</td>\n",
       "      <td>70-89</td>\n",
       "      <td>Male</td>\n",
       "      <td>2024-01-01</td>\n",
       "      <td>2024-01-12</td>\n",
       "      <td>11</td>\n",
       "      <td>10</td>\n",
       "      <td>-1</td>\n",
       "      <td>Jan</td>\n",
       "      <td>2024-01-01 14:41:00</td>\n",
       "      <td>2024-01-01 14:41:00</td>\n",
       "    </tr>\n",
       "    <tr>\n",
       "      <th>2</th>\n",
       "      <td>8435240811</td>\n",
       "      <td>4218863908</td>\n",
       "      <td>1935-04-20</td>\n",
       "      <td>89</td>\n",
       "      <td>70-89</td>\n",
       "      <td>Male</td>\n",
       "      <td>2024-01-01</td>\n",
       "      <td>2024-01-12</td>\n",
       "      <td>11</td>\n",
       "      <td>10</td>\n",
       "      <td>-1</td>\n",
       "      <td>Jan</td>\n",
       "      <td>2024-01-01 15:03:00</td>\n",
       "      <td>2024-01-01 15:04:00</td>\n",
       "    </tr>\n",
       "    <tr>\n",
       "      <th>3</th>\n",
       "      <td>6313729203</td>\n",
       "      <td>1626349315</td>\n",
       "      <td>1953-03-03</td>\n",
       "      <td>71</td>\n",
       "      <td>70-89</td>\n",
       "      <td>Female</td>\n",
       "      <td>2024-01-01</td>\n",
       "      <td>2024-01-03</td>\n",
       "      <td>2</td>\n",
       "      <td>4</td>\n",
       "      <td>2</td>\n",
       "      <td>Jan</td>\n",
       "      <td>2024-01-01 14:30:00</td>\n",
       "      <td>2024-01-01 14:30:00</td>\n",
       "    </tr>\n",
       "    <tr>\n",
       "      <th>4</th>\n",
       "      <td>8070265503</td>\n",
       "      <td>1402760992</td>\n",
       "      <td>1968-11-12</td>\n",
       "      <td>55</td>\n",
       "      <td>50-69</td>\n",
       "      <td>Male</td>\n",
       "      <td>2024-01-01</td>\n",
       "      <td>2024-01-04</td>\n",
       "      <td>3</td>\n",
       "      <td>2</td>\n",
       "      <td>-1</td>\n",
       "      <td>Jan</td>\n",
       "      <td>2024-01-01 16:42:00</td>\n",
       "      <td>2024-01-01 16:42:00</td>\n",
       "    </tr>\n",
       "    <tr>\n",
       "      <th>...</th>\n",
       "      <td>...</td>\n",
       "      <td>...</td>\n",
       "      <td>...</td>\n",
       "      <td>...</td>\n",
       "      <td>...</td>\n",
       "      <td>...</td>\n",
       "      <td>...</td>\n",
       "      <td>...</td>\n",
       "      <td>...</td>\n",
       "      <td>...</td>\n",
       "      <td>...</td>\n",
       "      <td>...</td>\n",
       "      <td>...</td>\n",
       "      <td>...</td>\n",
       "    </tr>\n",
       "    <tr>\n",
       "      <th>5369</th>\n",
       "      <td>9993029310</td>\n",
       "      <td>9455312842</td>\n",
       "      <td>1968-07-23</td>\n",
       "      <td>55</td>\n",
       "      <td>50-69</td>\n",
       "      <td>Female</td>\n",
       "      <td>2024-04-01</td>\n",
       "      <td>2024-04-04</td>\n",
       "      <td>3</td>\n",
       "      <td>5</td>\n",
       "      <td>2</td>\n",
       "      <td>Apr</td>\n",
       "      <td>2024-04-02 15:59:00</td>\n",
       "      <td>2024-04-02 15:59:00</td>\n",
       "    </tr>\n",
       "    <tr>\n",
       "      <th>5370</th>\n",
       "      <td>9993029310</td>\n",
       "      <td>9455312842</td>\n",
       "      <td>1968-07-23</td>\n",
       "      <td>55</td>\n",
       "      <td>50-69</td>\n",
       "      <td>Female</td>\n",
       "      <td>2024-04-01</td>\n",
       "      <td>2024-04-04</td>\n",
       "      <td>3</td>\n",
       "      <td>5</td>\n",
       "      <td>2</td>\n",
       "      <td>Apr</td>\n",
       "      <td>2024-04-02 16:04:00</td>\n",
       "      <td>2024-04-02 16:04:00</td>\n",
       "    </tr>\n",
       "    <tr>\n",
       "      <th>5371</th>\n",
       "      <td>9993029310</td>\n",
       "      <td>9455312842</td>\n",
       "      <td>1968-07-23</td>\n",
       "      <td>55</td>\n",
       "      <td>50-69</td>\n",
       "      <td>Female</td>\n",
       "      <td>2024-04-01</td>\n",
       "      <td>2024-04-04</td>\n",
       "      <td>3</td>\n",
       "      <td>5</td>\n",
       "      <td>2</td>\n",
       "      <td>Apr</td>\n",
       "      <td>2024-04-02 16:10:00</td>\n",
       "      <td>2024-04-02 16:10:00</td>\n",
       "    </tr>\n",
       "    <tr>\n",
       "      <th>5372</th>\n",
       "      <td>9993029310</td>\n",
       "      <td>9455312842</td>\n",
       "      <td>1968-07-23</td>\n",
       "      <td>55</td>\n",
       "      <td>50-69</td>\n",
       "      <td>Female</td>\n",
       "      <td>2024-04-01</td>\n",
       "      <td>2024-04-04</td>\n",
       "      <td>3</td>\n",
       "      <td>5</td>\n",
       "      <td>2</td>\n",
       "      <td>Apr</td>\n",
       "      <td>2024-04-02 16:16:00</td>\n",
       "      <td>2024-04-02 16:17:00</td>\n",
       "    </tr>\n",
       "    <tr>\n",
       "      <th>5373</th>\n",
       "      <td>9993029310</td>\n",
       "      <td>9455312842</td>\n",
       "      <td>1968-07-23</td>\n",
       "      <td>55</td>\n",
       "      <td>50-69</td>\n",
       "      <td>Female</td>\n",
       "      <td>2024-04-01</td>\n",
       "      <td>2024-04-04</td>\n",
       "      <td>3</td>\n",
       "      <td>6</td>\n",
       "      <td>3</td>\n",
       "      <td>Apr</td>\n",
       "      <td>2024-04-02 16:24:00</td>\n",
       "      <td>2024-04-02 16:24:00</td>\n",
       "    </tr>\n",
       "  </tbody>\n",
       "</table>\n",
       "<p>5325 rows × 14 columns</p>\n",
       "</div>"
      ],
      "text/plain": [
       "      PATIENT_ID     BILL_ID BIRTH_DATE  AGE AGE_group     SEX  \\\n",
       "0     8435240811  4218863908 1935-04-20   89     70-89    Male   \n",
       "1     8435240811  4218863908 1935-04-20   89     70-89    Male   \n",
       "2     8435240811  4218863908 1935-04-20   89     70-89    Male   \n",
       "3     6313729203  1626349315 1953-03-03   71     70-89  Female   \n",
       "4     8070265503  1402760992 1968-11-12   55     50-69    Male   \n",
       "...          ...         ...        ...  ...       ...     ...   \n",
       "5369  9993029310  9455312842 1968-07-23   55     50-69  Female   \n",
       "5370  9993029310  9455312842 1968-07-23   55     50-69  Female   \n",
       "5371  9993029310  9455312842 1968-07-23   55     50-69  Female   \n",
       "5372  9993029310  9455312842 1968-07-23   55     50-69  Female   \n",
       "5373  9993029310  9455312842 1968-07-23   55     50-69  Female   \n",
       "\n",
       "     HOSP_ADMSN_TIME HOSP_DISCH_TIME  ALOS  ELOS  Discrepancy_days Adm_Month  \\\n",
       "0         2024-01-01      2024-01-12    11     9                -2       Jan   \n",
       "1         2024-01-01      2024-01-12    11    10                -1       Jan   \n",
       "2         2024-01-01      2024-01-12    11    10                -1       Jan   \n",
       "3         2024-01-01      2024-01-03     2     4                 2       Jan   \n",
       "4         2024-01-01      2024-01-04     3     2                -1       Jan   \n",
       "...              ...             ...   ...   ...               ...       ...   \n",
       "5369      2024-04-01      2024-04-04     3     5                 2       Apr   \n",
       "5370      2024-04-01      2024-04-04     3     5                 2       Apr   \n",
       "5371      2024-04-01      2024-04-04     3     5                 2       Apr   \n",
       "5372      2024-04-01      2024-04-04     3     5                 2       Apr   \n",
       "5373      2024-04-01      2024-04-04     3     6                 3       Apr   \n",
       "\n",
       "           RECORDED_TIME          ENTRY_TIME  \n",
       "0    2024-01-01 13:57:00 2024-01-01 13:58:00  \n",
       "1    2024-01-01 14:41:00 2024-01-01 14:41:00  \n",
       "2    2024-01-01 15:03:00 2024-01-01 15:04:00  \n",
       "3    2024-01-01 14:30:00 2024-01-01 14:30:00  \n",
       "4    2024-01-01 16:42:00 2024-01-01 16:42:00  \n",
       "...                  ...                 ...  \n",
       "5369 2024-04-02 15:59:00 2024-04-02 15:59:00  \n",
       "5370 2024-04-02 16:04:00 2024-04-02 16:04:00  \n",
       "5371 2024-04-02 16:10:00 2024-04-02 16:10:00  \n",
       "5372 2024-04-02 16:16:00 2024-04-02 16:17:00  \n",
       "5373 2024-04-02 16:24:00 2024-04-02 16:24:00  \n",
       "\n",
       "[5325 rows x 14 columns]"
      ]
     },
     "execution_count": 231,
     "metadata": {},
     "output_type": "execute_result"
    }
   ],
   "source": [
    "df"
   ]
  },
  {
   "cell_type": "code",
   "execution_count": 232,
   "id": "9257f910",
   "metadata": {
    "scrolled": false
   },
   "outputs": [
    {
     "data": {
      "text/plain": [
       "count    5325.000000\n",
       "mean        0.133333\n",
       "std         6.192433\n",
       "min       -67.000000\n",
       "25%        -1.000000\n",
       "50%         1.000000\n",
       "75%         3.000000\n",
       "max        18.000000\n",
       "Name: Discrepancy_days, dtype: float64"
      ]
     },
     "execution_count": 232,
     "metadata": {},
     "output_type": "execute_result"
    }
   ],
   "source": [
    "df[\"Discrepancy_days\"].describe()"
   ]
  },
  {
   "cell_type": "code",
   "execution_count": 233,
   "id": "4ede3d7d",
   "metadata": {},
   "outputs": [],
   "source": [
    "# create a new row for categorise the prediction\n",
    "def cat_pred(LOS):\n",
    "    if LOS > 0:\n",
    "        return \"Overestimated\"\n",
    "    elif LOS < 0:\n",
    "        return \"Underestimated\"\n",
    "    else:\n",
    "        return \"Accurate\"\n",
    "\n",
    "df.insert(11, \"prediction\",df[\"Discrepancy_days\"].apply(cat_pred))\n"
   ]
  },
  {
   "cell_type": "markdown",
   "id": "93740f7f",
   "metadata": {},
   "source": [
    "Lets do feature creatation :\n",
    "1. Age/ Age_group\n",
    "2. ALOS\n",
    "3. Discrepancy days (ELOS-ALOS)\n",
    "4. prediction ( accuracy/ over/ underestimated)\n",
    "5. Adm_Month\n",
    "6. Readmission Frequency (at readmission section)\n",
    "7. Readmission interval\n",
    "\n",
    "In order to get the latest ELOS measurement, first I groupby bill_id to ensure the analysis is based on the admission visit not patient level. In each admission, filtered and keep the latest entry time of clincial note. \n",
    "\n",
    "For better understand the readmission interval,I grouped the patient_id, in each group of ID, the  \"HOSP_DISCH_TIME\" from the previous row will be shifted down to next row in \"pre_disch\"column. For the first row of each group, since there is no previous row, the value in \"pre_disch\" will be NaN.\n"
   ]
  },
  {
   "cell_type": "code",
   "execution_count": 234,
   "id": "cc813c68",
   "metadata": {},
   "outputs": [
    {
     "data": {
      "text/html": [
       "<div>\n",
       "<style scoped>\n",
       "    .dataframe tbody tr th:only-of-type {\n",
       "        vertical-align: middle;\n",
       "    }\n",
       "\n",
       "    .dataframe tbody tr th {\n",
       "        vertical-align: top;\n",
       "    }\n",
       "\n",
       "    .dataframe thead th {\n",
       "        text-align: right;\n",
       "    }\n",
       "</style>\n",
       "<table border=\"1\" class=\"dataframe\">\n",
       "  <thead>\n",
       "    <tr style=\"text-align: right;\">\n",
       "      <th></th>\n",
       "      <th>PATIENT_ID</th>\n",
       "      <th>BILL_ID</th>\n",
       "      <th>BIRTH_DATE</th>\n",
       "      <th>AGE</th>\n",
       "      <th>AGE_group</th>\n",
       "      <th>SEX</th>\n",
       "      <th>HOSP_ADMSN_TIME</th>\n",
       "      <th>HOSP_DISCH_TIME</th>\n",
       "      <th>ALOS</th>\n",
       "      <th>ELOS</th>\n",
       "      <th>Discrepancy_days</th>\n",
       "      <th>prediction</th>\n",
       "      <th>Adm_Month</th>\n",
       "      <th>ENTRY_TIME</th>\n",
       "    </tr>\n",
       "  </thead>\n",
       "  <tbody>\n",
       "    <tr>\n",
       "      <th>2</th>\n",
       "      <td>8435240811</td>\n",
       "      <td>4218863908</td>\n",
       "      <td>1935-04-20</td>\n",
       "      <td>89</td>\n",
       "      <td>70-89</td>\n",
       "      <td>Male</td>\n",
       "      <td>2024-01-01</td>\n",
       "      <td>2024-01-12</td>\n",
       "      <td>11</td>\n",
       "      <td>10</td>\n",
       "      <td>-1</td>\n",
       "      <td>Underestimated</td>\n",
       "      <td>Jan</td>\n",
       "      <td>2024-01-01 15:04:00</td>\n",
       "    </tr>\n",
       "    <tr>\n",
       "      <th>3</th>\n",
       "      <td>6313729203</td>\n",
       "      <td>1626349315</td>\n",
       "      <td>1953-03-03</td>\n",
       "      <td>71</td>\n",
       "      <td>70-89</td>\n",
       "      <td>Female</td>\n",
       "      <td>2024-01-01</td>\n",
       "      <td>2024-01-03</td>\n",
       "      <td>2</td>\n",
       "      <td>4</td>\n",
       "      <td>2</td>\n",
       "      <td>Overestimated</td>\n",
       "      <td>Jan</td>\n",
       "      <td>2024-01-01 14:30:00</td>\n",
       "    </tr>\n",
       "    <tr>\n",
       "      <th>8</th>\n",
       "      <td>8070265503</td>\n",
       "      <td>1402760992</td>\n",
       "      <td>1968-11-12</td>\n",
       "      <td>55</td>\n",
       "      <td>50-69</td>\n",
       "      <td>Male</td>\n",
       "      <td>2024-01-01</td>\n",
       "      <td>2024-01-04</td>\n",
       "      <td>3</td>\n",
       "      <td>2</td>\n",
       "      <td>-1</td>\n",
       "      <td>Underestimated</td>\n",
       "      <td>Jan</td>\n",
       "      <td>2024-01-01 17:15:00</td>\n",
       "    </tr>\n",
       "    <tr>\n",
       "      <th>9</th>\n",
       "      <td>9680839341</td>\n",
       "      <td>957281989</td>\n",
       "      <td>1963-05-25</td>\n",
       "      <td>61</td>\n",
       "      <td>50-69</td>\n",
       "      <td>Male</td>\n",
       "      <td>2024-01-01</td>\n",
       "      <td>2024-01-03</td>\n",
       "      <td>2</td>\n",
       "      <td>3</td>\n",
       "      <td>1</td>\n",
       "      <td>Overestimated</td>\n",
       "      <td>Jan</td>\n",
       "      <td>2024-01-01 17:52:00</td>\n",
       "    </tr>\n",
       "    <tr>\n",
       "      <th>11</th>\n",
       "      <td>544432713</td>\n",
       "      <td>1661142741</td>\n",
       "      <td>1970-10-28</td>\n",
       "      <td>53</td>\n",
       "      <td>50-69</td>\n",
       "      <td>Female</td>\n",
       "      <td>2024-01-01</td>\n",
       "      <td>2024-01-02</td>\n",
       "      <td>1</td>\n",
       "      <td>3</td>\n",
       "      <td>2</td>\n",
       "      <td>Overestimated</td>\n",
       "      <td>Jan</td>\n",
       "      <td>2024-01-01 21:25:00</td>\n",
       "    </tr>\n",
       "    <tr>\n",
       "      <th>...</th>\n",
       "      <td>...</td>\n",
       "      <td>...</td>\n",
       "      <td>...</td>\n",
       "      <td>...</td>\n",
       "      <td>...</td>\n",
       "      <td>...</td>\n",
       "      <td>...</td>\n",
       "      <td>...</td>\n",
       "      <td>...</td>\n",
       "      <td>...</td>\n",
       "      <td>...</td>\n",
       "      <td>...</td>\n",
       "      <td>...</td>\n",
       "      <td>...</td>\n",
       "    </tr>\n",
       "    <tr>\n",
       "      <th>5354</th>\n",
       "      <td>4278317744</td>\n",
       "      <td>8961012675</td>\n",
       "      <td>1944-01-06</td>\n",
       "      <td>80</td>\n",
       "      <td>70-89</td>\n",
       "      <td>Female</td>\n",
       "      <td>2024-04-01</td>\n",
       "      <td>2024-04-03</td>\n",
       "      <td>2</td>\n",
       "      <td>7</td>\n",
       "      <td>5</td>\n",
       "      <td>Overestimated</td>\n",
       "      <td>Apr</td>\n",
       "      <td>2024-04-01 23:12:00</td>\n",
       "    </tr>\n",
       "    <tr>\n",
       "      <th>5361</th>\n",
       "      <td>6968047681</td>\n",
       "      <td>6931311291</td>\n",
       "      <td>1948-02-25</td>\n",
       "      <td>76</td>\n",
       "      <td>70-89</td>\n",
       "      <td>Female</td>\n",
       "      <td>2024-04-01</td>\n",
       "      <td>2024-04-05</td>\n",
       "      <td>4</td>\n",
       "      <td>7</td>\n",
       "      <td>3</td>\n",
       "      <td>Overestimated</td>\n",
       "      <td>Apr</td>\n",
       "      <td>2024-04-02 02:25:00</td>\n",
       "    </tr>\n",
       "    <tr>\n",
       "      <th>5367</th>\n",
       "      <td>4728530036</td>\n",
       "      <td>2213905469</td>\n",
       "      <td>1946-12-02</td>\n",
       "      <td>77</td>\n",
       "      <td>70-89</td>\n",
       "      <td>Male</td>\n",
       "      <td>2024-04-01</td>\n",
       "      <td>2024-04-06</td>\n",
       "      <td>5</td>\n",
       "      <td>3</td>\n",
       "      <td>-2</td>\n",
       "      <td>Underestimated</td>\n",
       "      <td>Apr</td>\n",
       "      <td>2024-04-02 18:40:00</td>\n",
       "    </tr>\n",
       "    <tr>\n",
       "      <th>5368</th>\n",
       "      <td>2825371681</td>\n",
       "      <td>446224642</td>\n",
       "      <td>1941-07-30</td>\n",
       "      <td>82</td>\n",
       "      <td>70-89</td>\n",
       "      <td>Female</td>\n",
       "      <td>2024-04-01</td>\n",
       "      <td>2024-04-03</td>\n",
       "      <td>2</td>\n",
       "      <td>11</td>\n",
       "      <td>9</td>\n",
       "      <td>Overestimated</td>\n",
       "      <td>Apr</td>\n",
       "      <td>2024-04-02 03:16:00</td>\n",
       "    </tr>\n",
       "    <tr>\n",
       "      <th>5373</th>\n",
       "      <td>9993029310</td>\n",
       "      <td>9455312842</td>\n",
       "      <td>1968-07-23</td>\n",
       "      <td>55</td>\n",
       "      <td>50-69</td>\n",
       "      <td>Female</td>\n",
       "      <td>2024-04-01</td>\n",
       "      <td>2024-04-04</td>\n",
       "      <td>3</td>\n",
       "      <td>6</td>\n",
       "      <td>3</td>\n",
       "      <td>Overestimated</td>\n",
       "      <td>Apr</td>\n",
       "      <td>2024-04-02 16:24:00</td>\n",
       "    </tr>\n",
       "  </tbody>\n",
       "</table>\n",
       "<p>1498 rows × 14 columns</p>\n",
       "</div>"
      ],
      "text/plain": [
       "      PATIENT_ID     BILL_ID BIRTH_DATE  AGE AGE_group     SEX  \\\n",
       "2     8435240811  4218863908 1935-04-20   89     70-89    Male   \n",
       "3     6313729203  1626349315 1953-03-03   71     70-89  Female   \n",
       "8     8070265503  1402760992 1968-11-12   55     50-69    Male   \n",
       "9     9680839341   957281989 1963-05-25   61     50-69    Male   \n",
       "11     544432713  1661142741 1970-10-28   53     50-69  Female   \n",
       "...          ...         ...        ...  ...       ...     ...   \n",
       "5354  4278317744  8961012675 1944-01-06   80     70-89  Female   \n",
       "5361  6968047681  6931311291 1948-02-25   76     70-89  Female   \n",
       "5367  4728530036  2213905469 1946-12-02   77     70-89    Male   \n",
       "5368  2825371681   446224642 1941-07-30   82     70-89  Female   \n",
       "5373  9993029310  9455312842 1968-07-23   55     50-69  Female   \n",
       "\n",
       "     HOSP_ADMSN_TIME HOSP_DISCH_TIME  ALOS  ELOS  Discrepancy_days  \\\n",
       "2         2024-01-01      2024-01-12    11    10                -1   \n",
       "3         2024-01-01      2024-01-03     2     4                 2   \n",
       "8         2024-01-01      2024-01-04     3     2                -1   \n",
       "9         2024-01-01      2024-01-03     2     3                 1   \n",
       "11        2024-01-01      2024-01-02     1     3                 2   \n",
       "...              ...             ...   ...   ...               ...   \n",
       "5354      2024-04-01      2024-04-03     2     7                 5   \n",
       "5361      2024-04-01      2024-04-05     4     7                 3   \n",
       "5367      2024-04-01      2024-04-06     5     3                -2   \n",
       "5368      2024-04-01      2024-04-03     2    11                 9   \n",
       "5373      2024-04-01      2024-04-04     3     6                 3   \n",
       "\n",
       "          prediction Adm_Month          ENTRY_TIME  \n",
       "2     Underestimated       Jan 2024-01-01 15:04:00  \n",
       "3      Overestimated       Jan 2024-01-01 14:30:00  \n",
       "8     Underestimated       Jan 2024-01-01 17:15:00  \n",
       "9      Overestimated       Jan 2024-01-01 17:52:00  \n",
       "11     Overestimated       Jan 2024-01-01 21:25:00  \n",
       "...              ...       ...                 ...  \n",
       "5354   Overestimated       Apr 2024-04-01 23:12:00  \n",
       "5361   Overestimated       Apr 2024-04-02 02:25:00  \n",
       "5367  Underestimated       Apr 2024-04-02 18:40:00  \n",
       "5368   Overestimated       Apr 2024-04-02 03:16:00  \n",
       "5373   Overestimated       Apr 2024-04-02 16:24:00  \n",
       "\n",
       "[1498 rows x 14 columns]"
      ]
     },
     "execution_count": 234,
     "metadata": {},
     "output_type": "execute_result"
    }
   ],
   "source": [
    "# create a new row with lastest entry time group by bill_id\n",
    "df[\"lastest_entry\"]= df.groupby(\"BILL_ID\")[\"ENTRY_TIME\"].transform(\"max\")\n",
    "\n",
    "# keep the lastest entry time and drop recorded and lastest_entry columns\n",
    "lastest_df = df[df[\"ENTRY_TIME\"]== df[\"lastest_entry\"]]\n",
    "lastest_df= lastest_df.drop([\"RECORDED_TIME\", \"lastest_entry\"],axis = 1)\n",
    "lastest_df"
   ]
  },
  {
   "cell_type": "code",
   "execution_count": 235,
   "id": "4f54da3f",
   "metadata": {},
   "outputs": [],
   "source": [
    "# create interval duration for readmission\n",
    "\n",
    "lastest_df= lastest_df.sort_values(by=[\"PATIENT_ID\", \"HOSP_ADMSN_TIME\"])\n",
    "\n",
    "lastest_df[\"pre_disch\"] = lastest_df.groupby(\"PATIENT_ID\")[\"HOSP_DISCH_TIME\"].shift()\n",
    "lastest_df.insert(14, \"readm_interval\", (lastest_df[\"HOSP_ADMSN_TIME\"]-lastest_df[\"pre_disch\"]).dt.days)\n",
    "\n"
   ]
  },
  {
   "cell_type": "code",
   "execution_count": 236,
   "id": "ed0cc3bb",
   "metadata": {},
   "outputs": [
    {
     "data": {
      "text/html": [
       "<div>\n",
       "<style scoped>\n",
       "    .dataframe tbody tr th:only-of-type {\n",
       "        vertical-align: middle;\n",
       "    }\n",
       "\n",
       "    .dataframe tbody tr th {\n",
       "        vertical-align: top;\n",
       "    }\n",
       "\n",
       "    .dataframe thead th {\n",
       "        text-align: right;\n",
       "    }\n",
       "</style>\n",
       "<table border=\"1\" class=\"dataframe\">\n",
       "  <thead>\n",
       "    <tr style=\"text-align: right;\">\n",
       "      <th></th>\n",
       "      <th>BILL_ID</th>\n",
       "      <th>AGE</th>\n",
       "      <th>ALOS</th>\n",
       "      <th>ELOS</th>\n",
       "      <th>Discrepancy_days</th>\n",
       "      <th>readm_interval</th>\n",
       "    </tr>\n",
       "  </thead>\n",
       "  <tbody>\n",
       "    <tr>\n",
       "      <th>count</th>\n",
       "      <td>1.498000e+03</td>\n",
       "      <td>1498.000000</td>\n",
       "      <td>1498.000000</td>\n",
       "      <td>1498.000000</td>\n",
       "      <td>1498.000000</td>\n",
       "      <td>103.000000</td>\n",
       "    </tr>\n",
       "    <tr>\n",
       "      <th>mean</th>\n",
       "      <td>4.902529e+09</td>\n",
       "      <td>64.889853</td>\n",
       "      <td>5.097463</td>\n",
       "      <td>5.496662</td>\n",
       "      <td>0.399199</td>\n",
       "      <td>19.786408</td>\n",
       "    </tr>\n",
       "    <tr>\n",
       "      <th>std</th>\n",
       "      <td>2.882840e+09</td>\n",
       "      <td>18.280689</td>\n",
       "      <td>5.444428</td>\n",
       "      <td>2.735316</td>\n",
       "      <td>5.368783</td>\n",
       "      <td>20.176501</td>\n",
       "    </tr>\n",
       "    <tr>\n",
       "      <th>min</th>\n",
       "      <td>1.309373e+07</td>\n",
       "      <td>18.000000</td>\n",
       "      <td>0.000000</td>\n",
       "      <td>0.000000</td>\n",
       "      <td>-61.000000</td>\n",
       "      <td>0.000000</td>\n",
       "    </tr>\n",
       "    <tr>\n",
       "      <th>25%</th>\n",
       "      <td>2.413624e+09</td>\n",
       "      <td>54.000000</td>\n",
       "      <td>2.000000</td>\n",
       "      <td>4.000000</td>\n",
       "      <td>-1.000000</td>\n",
       "      <td>4.000000</td>\n",
       "    </tr>\n",
       "    <tr>\n",
       "      <th>50%</th>\n",
       "      <td>4.840952e+09</td>\n",
       "      <td>68.000000</td>\n",
       "      <td>4.000000</td>\n",
       "      <td>5.000000</td>\n",
       "      <td>1.000000</td>\n",
       "      <td>13.000000</td>\n",
       "    </tr>\n",
       "    <tr>\n",
       "      <th>75%</th>\n",
       "      <td>7.372490e+09</td>\n",
       "      <td>77.000000</td>\n",
       "      <td>6.000000</td>\n",
       "      <td>7.000000</td>\n",
       "      <td>3.000000</td>\n",
       "      <td>26.500000</td>\n",
       "    </tr>\n",
       "    <tr>\n",
       "      <th>max</th>\n",
       "      <td>9.996097e+09</td>\n",
       "      <td>103.000000</td>\n",
       "      <td>74.000000</td>\n",
       "      <td>24.000000</td>\n",
       "      <td>18.000000</td>\n",
       "      <td>81.000000</td>\n",
       "    </tr>\n",
       "  </tbody>\n",
       "</table>\n",
       "</div>"
      ],
      "text/plain": [
       "            BILL_ID          AGE         ALOS         ELOS  Discrepancy_days  \\\n",
       "count  1.498000e+03  1498.000000  1498.000000  1498.000000       1498.000000   \n",
       "mean   4.902529e+09    64.889853     5.097463     5.496662          0.399199   \n",
       "std    2.882840e+09    18.280689     5.444428     2.735316          5.368783   \n",
       "min    1.309373e+07    18.000000     0.000000     0.000000        -61.000000   \n",
       "25%    2.413624e+09    54.000000     2.000000     4.000000         -1.000000   \n",
       "50%    4.840952e+09    68.000000     4.000000     5.000000          1.000000   \n",
       "75%    7.372490e+09    77.000000     6.000000     7.000000          3.000000   \n",
       "max    9.996097e+09   103.000000    74.000000    24.000000         18.000000   \n",
       "\n",
       "       readm_interval  \n",
       "count      103.000000  \n",
       "mean        19.786408  \n",
       "std         20.176501  \n",
       "min          0.000000  \n",
       "25%          4.000000  \n",
       "50%         13.000000  \n",
       "75%         26.500000  \n",
       "max         81.000000  "
      ]
     },
     "execution_count": 236,
     "metadata": {},
     "output_type": "execute_result"
    }
   ],
   "source": [
    "lastest_df.describe()"
   ]
  },
  {
   "cell_type": "code",
   "execution_count": 237,
   "id": "fbd69d85",
   "metadata": {},
   "outputs": [
    {
     "data": {
      "text/html": [
       "<div>\n",
       "<style scoped>\n",
       "    .dataframe tbody tr th:only-of-type {\n",
       "        vertical-align: middle;\n",
       "    }\n",
       "\n",
       "    .dataframe tbody tr th {\n",
       "        vertical-align: top;\n",
       "    }\n",
       "\n",
       "    .dataframe thead th {\n",
       "        text-align: right;\n",
       "    }\n",
       "</style>\n",
       "<table border=\"1\" class=\"dataframe\">\n",
       "  <thead>\n",
       "    <tr style=\"text-align: right;\">\n",
       "      <th></th>\n",
       "      <th>PATIENT_ID</th>\n",
       "      <th>BILL_ID</th>\n",
       "      <th>BIRTH_DATE</th>\n",
       "      <th>AGE</th>\n",
       "      <th>AGE_group</th>\n",
       "      <th>SEX</th>\n",
       "      <th>HOSP_ADMSN_TIME</th>\n",
       "      <th>HOSP_DISCH_TIME</th>\n",
       "      <th>ALOS</th>\n",
       "      <th>ELOS</th>\n",
       "      <th>Discrepancy_days</th>\n",
       "      <th>prediction</th>\n",
       "      <th>Adm_Month</th>\n",
       "      <th>ENTRY_TIME</th>\n",
       "      <th>readm_interval</th>\n",
       "      <th>pre_disch</th>\n",
       "    </tr>\n",
       "  </thead>\n",
       "  <tbody>\n",
       "    <tr>\n",
       "      <th>814</th>\n",
       "      <td>2482338936</td>\n",
       "      <td>4345741420</td>\n",
       "      <td>1990-10-25</td>\n",
       "      <td>33</td>\n",
       "      <td>30-49</td>\n",
       "      <td>Male</td>\n",
       "      <td>2024-01-16</td>\n",
       "      <td>2024-01-16</td>\n",
       "      <td>0</td>\n",
       "      <td>4</td>\n",
       "      <td>4</td>\n",
       "      <td>Overestimated</td>\n",
       "      <td>Jan</td>\n",
       "      <td>2024-01-16 11:09:00</td>\n",
       "      <td>NaN</td>\n",
       "      <td>NaN</td>\n",
       "    </tr>\n",
       "    <tr>\n",
       "      <th>5110</th>\n",
       "      <td>2936054255</td>\n",
       "      <td>1388859423</td>\n",
       "      <td>1984-01-15</td>\n",
       "      <td>40</td>\n",
       "      <td>30-49</td>\n",
       "      <td>Male</td>\n",
       "      <td>2024-03-29</td>\n",
       "      <td>2024-03-29</td>\n",
       "      <td>0</td>\n",
       "      <td>13</td>\n",
       "      <td>13</td>\n",
       "      <td>Overestimated</td>\n",
       "      <td>Mar</td>\n",
       "      <td>2024-03-29 06:05:00</td>\n",
       "      <td>10.0</td>\n",
       "      <td>2024-03-19</td>\n",
       "    </tr>\n",
       "    <tr>\n",
       "      <th>3057</th>\n",
       "      <td>3959374453</td>\n",
       "      <td>3417754451</td>\n",
       "      <td>1946-09-07</td>\n",
       "      <td>77</td>\n",
       "      <td>70-89</td>\n",
       "      <td>Male</td>\n",
       "      <td>2024-02-22</td>\n",
       "      <td>2024-02-22</td>\n",
       "      <td>0</td>\n",
       "      <td>4</td>\n",
       "      <td>4</td>\n",
       "      <td>Overestimated</td>\n",
       "      <td>Feb</td>\n",
       "      <td>2024-02-22 17:51:00</td>\n",
       "      <td>9.0</td>\n",
       "      <td>2024-02-13</td>\n",
       "    </tr>\n",
       "    <tr>\n",
       "      <th>4117</th>\n",
       "      <td>4666414990</td>\n",
       "      <td>4634549144</td>\n",
       "      <td>1964-04-12</td>\n",
       "      <td>60</td>\n",
       "      <td>50-69</td>\n",
       "      <td>Male</td>\n",
       "      <td>2024-03-12</td>\n",
       "      <td>2024-03-12</td>\n",
       "      <td>0</td>\n",
       "      <td>8</td>\n",
       "      <td>8</td>\n",
       "      <td>Overestimated</td>\n",
       "      <td>Mar</td>\n",
       "      <td>2024-03-12 13:35:00</td>\n",
       "      <td>NaN</td>\n",
       "      <td>NaN</td>\n",
       "    </tr>\n",
       "    <tr>\n",
       "      <th>4924</th>\n",
       "      <td>6537880379</td>\n",
       "      <td>2232432449</td>\n",
       "      <td>1999-10-07</td>\n",
       "      <td>24</td>\n",
       "      <td>18-29</td>\n",
       "      <td>Male</td>\n",
       "      <td>2024-03-28</td>\n",
       "      <td>2024-03-28</td>\n",
       "      <td>0</td>\n",
       "      <td>1</td>\n",
       "      <td>1</td>\n",
       "      <td>Overestimated</td>\n",
       "      <td>Mar</td>\n",
       "      <td>2024-03-28 10:41:00</td>\n",
       "      <td>NaN</td>\n",
       "      <td>NaN</td>\n",
       "    </tr>\n",
       "    <tr>\n",
       "      <th>2440</th>\n",
       "      <td>6995615172</td>\n",
       "      <td>4730895335</td>\n",
       "      <td>1949-07-09</td>\n",
       "      <td>75</td>\n",
       "      <td>70-89</td>\n",
       "      <td>Female</td>\n",
       "      <td>2024-02-12</td>\n",
       "      <td>2024-02-12</td>\n",
       "      <td>0</td>\n",
       "      <td>11</td>\n",
       "      <td>11</td>\n",
       "      <td>Overestimated</td>\n",
       "      <td>Feb</td>\n",
       "      <td>2024-02-12 05:51:00</td>\n",
       "      <td>25.0</td>\n",
       "      <td>2024-01-18</td>\n",
       "    </tr>\n",
       "    <tr>\n",
       "      <th>2004</th>\n",
       "      <td>7112521384</td>\n",
       "      <td>3617265929</td>\n",
       "      <td>1959-11-06</td>\n",
       "      <td>64</td>\n",
       "      <td>50-69</td>\n",
       "      <td>Female</td>\n",
       "      <td>2024-02-05</td>\n",
       "      <td>2024-02-05</td>\n",
       "      <td>0</td>\n",
       "      <td>10</td>\n",
       "      <td>10</td>\n",
       "      <td>Overestimated</td>\n",
       "      <td>Feb</td>\n",
       "      <td>2024-02-05 16:09:00</td>\n",
       "      <td>NaN</td>\n",
       "      <td>NaN</td>\n",
       "    </tr>\n",
       "    <tr>\n",
       "      <th>2523</th>\n",
       "      <td>7261294922</td>\n",
       "      <td>4337444627</td>\n",
       "      <td>1946-12-16</td>\n",
       "      <td>77</td>\n",
       "      <td>70-89</td>\n",
       "      <td>Male</td>\n",
       "      <td>2024-02-13</td>\n",
       "      <td>2024-02-13</td>\n",
       "      <td>0</td>\n",
       "      <td>3</td>\n",
       "      <td>3</td>\n",
       "      <td>Overestimated</td>\n",
       "      <td>Feb</td>\n",
       "      <td>2024-02-13 10:59:00</td>\n",
       "      <td>NaN</td>\n",
       "      <td>NaN</td>\n",
       "    </tr>\n",
       "  </tbody>\n",
       "</table>\n",
       "</div>"
      ],
      "text/plain": [
       "      PATIENT_ID     BILL_ID BIRTH_DATE  AGE AGE_group     SEX  \\\n",
       "814   2482338936  4345741420 1990-10-25   33     30-49    Male   \n",
       "5110  2936054255  1388859423 1984-01-15   40     30-49    Male   \n",
       "3057  3959374453  3417754451 1946-09-07   77     70-89    Male   \n",
       "4117  4666414990  4634549144 1964-04-12   60     50-69    Male   \n",
       "4924  6537880379  2232432449 1999-10-07   24     18-29    Male   \n",
       "2440  6995615172  4730895335 1949-07-09   75     70-89  Female   \n",
       "2004  7112521384  3617265929 1959-11-06   64     50-69  Female   \n",
       "2523  7261294922  4337444627 1946-12-16   77     70-89    Male   \n",
       "\n",
       "     HOSP_ADMSN_TIME HOSP_DISCH_TIME  ALOS  ELOS  Discrepancy_days  \\\n",
       "814       2024-01-16      2024-01-16     0     4                 4   \n",
       "5110      2024-03-29      2024-03-29     0    13                13   \n",
       "3057      2024-02-22      2024-02-22     0     4                 4   \n",
       "4117      2024-03-12      2024-03-12     0     8                 8   \n",
       "4924      2024-03-28      2024-03-28     0     1                 1   \n",
       "2440      2024-02-12      2024-02-12     0    11                11   \n",
       "2004      2024-02-05      2024-02-05     0    10                10   \n",
       "2523      2024-02-13      2024-02-13     0     3                 3   \n",
       "\n",
       "         prediction Adm_Month          ENTRY_TIME  readm_interval   pre_disch  \n",
       "814   Overestimated       Jan 2024-01-16 11:09:00             NaN         NaN  \n",
       "5110  Overestimated       Mar 2024-03-29 06:05:00            10.0  2024-03-19  \n",
       "3057  Overestimated       Feb 2024-02-22 17:51:00             9.0  2024-02-13  \n",
       "4117  Overestimated       Mar 2024-03-12 13:35:00             NaN         NaN  \n",
       "4924  Overestimated       Mar 2024-03-28 10:41:00             NaN         NaN  \n",
       "2440  Overestimated       Feb 2024-02-12 05:51:00            25.0  2024-01-18  \n",
       "2004  Overestimated       Feb 2024-02-05 16:09:00             NaN         NaN  \n",
       "2523  Overestimated       Feb 2024-02-13 10:59:00             NaN         NaN  "
      ]
     },
     "execution_count": 237,
     "metadata": {},
     "output_type": "execute_result"
    }
   ],
   "source": [
    "lastest_df[lastest_df[\"ALOS\"] == 0]"
   ]
  },
  {
   "cell_type": "code",
   "execution_count": 238,
   "id": "e9686b7b",
   "metadata": {},
   "outputs": [
    {
     "data": {
      "text/html": [
       "<div>\n",
       "<style scoped>\n",
       "    .dataframe tbody tr th:only-of-type {\n",
       "        vertical-align: middle;\n",
       "    }\n",
       "\n",
       "    .dataframe tbody tr th {\n",
       "        vertical-align: top;\n",
       "    }\n",
       "\n",
       "    .dataframe thead th {\n",
       "        text-align: right;\n",
       "    }\n",
       "</style>\n",
       "<table border=\"1\" class=\"dataframe\">\n",
       "  <thead>\n",
       "    <tr style=\"text-align: right;\">\n",
       "      <th></th>\n",
       "      <th>PATIENT_ID</th>\n",
       "      <th>BILL_ID</th>\n",
       "      <th>BIRTH_DATE</th>\n",
       "      <th>AGE</th>\n",
       "      <th>AGE_group</th>\n",
       "      <th>SEX</th>\n",
       "      <th>HOSP_ADMSN_TIME</th>\n",
       "      <th>HOSP_DISCH_TIME</th>\n",
       "      <th>ALOS</th>\n",
       "      <th>ELOS</th>\n",
       "      <th>Discrepancy_days</th>\n",
       "      <th>prediction</th>\n",
       "      <th>Adm_Month</th>\n",
       "      <th>ENTRY_TIME</th>\n",
       "      <th>readm_interval</th>\n",
       "      <th>pre_disch</th>\n",
       "    </tr>\n",
       "  </thead>\n",
       "  <tbody>\n",
       "    <tr>\n",
       "      <th>3237</th>\n",
       "      <td>2809111258</td>\n",
       "      <td>7112913184</td>\n",
       "      <td>1951-08-26</td>\n",
       "      <td>72</td>\n",
       "      <td>70-89</td>\n",
       "      <td>Female</td>\n",
       "      <td>2024-02-26</td>\n",
       "      <td>2024-02-29</td>\n",
       "      <td>3</td>\n",
       "      <td>3</td>\n",
       "      <td>0</td>\n",
       "      <td>Accurate</td>\n",
       "      <td>Feb</td>\n",
       "      <td>2024-02-26 14:15:00</td>\n",
       "      <td>0.0</td>\n",
       "      <td>2024-02-26</td>\n",
       "    </tr>\n",
       "    <tr>\n",
       "      <th>3783</th>\n",
       "      <td>7390615902</td>\n",
       "      <td>6404907226</td>\n",
       "      <td>1941-12-28</td>\n",
       "      <td>82</td>\n",
       "      <td>70-89</td>\n",
       "      <td>Male</td>\n",
       "      <td>2024-03-05</td>\n",
       "      <td>2024-03-18</td>\n",
       "      <td>13</td>\n",
       "      <td>7</td>\n",
       "      <td>-6</td>\n",
       "      <td>Underestimated</td>\n",
       "      <td>Mar</td>\n",
       "      <td>2024-03-06 00:21:00</td>\n",
       "      <td>0.0</td>\n",
       "      <td>2024-03-05</td>\n",
       "    </tr>\n",
       "    <tr>\n",
       "      <th>4971</th>\n",
       "      <td>8683227747</td>\n",
       "      <td>4934583171</td>\n",
       "      <td>1973-12-10</td>\n",
       "      <td>50</td>\n",
       "      <td>50-69</td>\n",
       "      <td>Male</td>\n",
       "      <td>2024-03-27</td>\n",
       "      <td>2024-04-06</td>\n",
       "      <td>10</td>\n",
       "      <td>3</td>\n",
       "      <td>-7</td>\n",
       "      <td>Underestimated</td>\n",
       "      <td>Mar</td>\n",
       "      <td>2024-03-27 16:45:00</td>\n",
       "      <td>0.0</td>\n",
       "      <td>2024-03-27</td>\n",
       "    </tr>\n",
       "    <tr>\n",
       "      <th>4187</th>\n",
       "      <td>883446708</td>\n",
       "      <td>4959854660</td>\n",
       "      <td>2005-11-14</td>\n",
       "      <td>18</td>\n",
       "      <td>18-29</td>\n",
       "      <td>Male</td>\n",
       "      <td>2024-03-13</td>\n",
       "      <td>2024-03-15</td>\n",
       "      <td>2</td>\n",
       "      <td>2</td>\n",
       "      <td>0</td>\n",
       "      <td>Accurate</td>\n",
       "      <td>Mar</td>\n",
       "      <td>2024-03-13 17:01:00</td>\n",
       "      <td>0.0</td>\n",
       "      <td>2024-03-13</td>\n",
       "    </tr>\n",
       "  </tbody>\n",
       "</table>\n",
       "</div>"
      ],
      "text/plain": [
       "      PATIENT_ID     BILL_ID BIRTH_DATE  AGE AGE_group     SEX  \\\n",
       "3237  2809111258  7112913184 1951-08-26   72     70-89  Female   \n",
       "3783  7390615902  6404907226 1941-12-28   82     70-89    Male   \n",
       "4971  8683227747  4934583171 1973-12-10   50     50-69    Male   \n",
       "4187   883446708  4959854660 2005-11-14   18     18-29    Male   \n",
       "\n",
       "     HOSP_ADMSN_TIME HOSP_DISCH_TIME  ALOS  ELOS  Discrepancy_days  \\\n",
       "3237      2024-02-26      2024-02-29     3     3                 0   \n",
       "3783      2024-03-05      2024-03-18    13     7                -6   \n",
       "4971      2024-03-27      2024-04-06    10     3                -7   \n",
       "4187      2024-03-13      2024-03-15     2     2                 0   \n",
       "\n",
       "          prediction Adm_Month          ENTRY_TIME  readm_interval   pre_disch  \n",
       "3237        Accurate       Feb 2024-02-26 14:15:00             0.0  2024-02-26  \n",
       "3783  Underestimated       Mar 2024-03-06 00:21:00             0.0  2024-03-05  \n",
       "4971  Underestimated       Mar 2024-03-27 16:45:00             0.0  2024-03-27  \n",
       "4187        Accurate       Mar 2024-03-13 17:01:00             0.0  2024-03-13  "
      ]
     },
     "execution_count": 238,
     "metadata": {},
     "output_type": "execute_result"
    }
   ],
   "source": [
    "lastest_df[lastest_df[\"readm_interval\"] == 0]"
   ]
  },
  {
   "cell_type": "markdown",
   "id": "ea0d00f4",
   "metadata": {},
   "source": [
    "I noticed that there has min values are 0 in ALOS and readmission interval.Lets explore more\n",
    "\n",
    "there are 8 admissions were same day discharged.\n",
    "Q:Does the dateset included daysurgery cases or any one day procedure cases?\n",
    "\n",
    "There were 4 patients who discharged and readmitted on the same day. \n",
    "Q:Would it possible patient discharged and readmitted under different speciality? or discharged from ward and readmitted through A&E?"
   ]
  },
  {
   "cell_type": "markdown",
   "id": "6691c413",
   "metadata": {},
   "source": [
    "# EDA"
   ]
  },
  {
   "cell_type": "markdown",
   "id": "cc33dabd",
   "metadata": {},
   "source": [
    "In this section, I will explore and visualize underlying relationships in the data. \n",
    "I am  interested at looking how features in this dataset affect prediction . \n",
    "\n",
    "First, let's look at the demographic in the dataset"
   ]
  },
  {
   "cell_type": "code",
   "execution_count": 239,
   "id": "08a8131d",
   "metadata": {},
   "outputs": [],
   "source": [
    "sns.set_theme()"
   ]
  },
  {
   "cell_type": "code",
   "execution_count": 240,
   "id": "4006e746",
   "metadata": {},
   "outputs": [
    {
     "name": "stdout",
     "output_type": "stream",
     "text": [
      "Total # of patients from Jan-4th April: 1395\n",
      "Total # of admission from Jan-4th April: 1498\n"
     ]
    },
    {
     "data": {
      "image/png": "[encoded data removed]",
      "text/plain": [
       "<Figure size 800x400 with 1 Axes>"
      ]
     },
     "metadata": {},
     "output_type": "display_data"
    }
   ],
   "source": [
    "total_pt =lastest_df[\"PATIENT_ID\"].nunique()\n",
    "total_visit = lastest_df[\"BILL_ID\"].nunique()\n",
    "\n",
    "\n",
    "print(\"Total # of patients from Jan-4th April:\", lastest_df[\"PATIENT_ID\"].nunique())\n",
    "print(\"Total # of admission from Jan-4th April:\", lastest_df[\"BILL_ID\"].nunique())\n",
    "\n",
    "# plot the graph\n",
    "pt_visit_df = {\"Category\":[\"Patients\", \"Admission\"], \"Count\":[total_pt, total_visit]}\n",
    "\n",
    "plt.figure(figsize = (8,4))\n",
    "sns.barplot(x = \"Category\", y = \"Count\", data =pt_visit_df, palette = \"viridis\")\n",
    "plt.ylabel(\"Count\")\n",
    "plt.title(\"Total Number of Patients and Admission\")\n",
    "plt.show()"
   ]
  },
  {
   "cell_type": "markdown",
   "id": "c140b6b1",
   "metadata": {},
   "source": [
    "# CohortDemographic (Patient-Level) "
   ]
  },
  {
   "cell_type": "code",
   "execution_count": 241,
   "id": "e823714c",
   "metadata": {},
   "outputs": [
    {
     "name": "stdout",
     "output_type": "stream",
     "text": [
      "SEX\n",
      "Female    761\n",
      "Male      634\n",
      "dtype: int64\n"
     ]
    },
    {
     "data": {
      "image/png": "[encoded data removed]",
      "text/plain": [
       "<Figure size 800x400 with 2 Axes>"
      ]
     },
     "metadata": {},
     "output_type": "display_data"
    }
   ],
   "source": [
    "sex_distribution = lastest_df.drop_duplicates(subset = [\"PATIENT_ID\", \"SEX\"]).groupby(\"SEX\").size()\n",
    "sex_per = sex_distribution/lastest_df[\"PATIENT_ID\"].nunique()*100\n",
    "sex_per.round(2)\n",
    "print(sex_distribution)\n",
    "\n",
    "# plot the chart\n",
    "sex_distribution_1 = lastest_df.drop_duplicates(subset = [\"PATIENT_ID\", \"SEX\"])\n",
    "sex_distribution_1= sex_distribution_1[\"SEX\"].value_counts()\n",
    "\n",
    "plt.figure(figsize = (8,4))\n",
    "plt.subplot(1,2,1)\n",
    "sex_distribution_1.plot(kind = \"bar\")\n",
    "plt.ylabel(\"Count\")\n",
    "plt.xticks(rotation = 0)\n",
    "plt.title(\" Gender Discribution\", fontsize=12, weight='bold')\n",
    "\n",
    "plt.subplot(1,2,2)\n",
    "plt.pie(sex_per, labels = sex_per.index,autopct = \"%1.1f%%\" )\n",
    "plt.show()\n"
   ]
  },
  {
   "cell_type": "code",
   "execution_count": 242,
   "id": "59c821b5",
   "metadata": {},
   "outputs": [
    {
     "name": "stdout",
     "output_type": "stream",
     "text": [
      "70-89          569\n",
      "50-69          459\n",
      "30-49          204\n",
      "18-29           83\n",
      "90 or older     80\n",
      "Name: AGE_group, dtype: int64\n"
     ]
    },
    {
     "data": {
      "image/png": "[encoded data removed]",
      "text/plain": [
       "<Figure size 800x600 with 1 Axes>"
      ]
     },
     "metadata": {},
     "output_type": "display_data"
    }
   ],
   "source": [
    "Age_distribution = lastest_df.drop_duplicates(subset = [\"PATIENT_ID\", \"AGE\"])\n",
    "print(Age_distribution[\"AGE_group\"].value_counts())\n",
    "\n",
    "# plot a graph\n",
    "plt.figure(figsize = (8,6))\n",
    "sns.histplot(data = Age_distribution, x = \"AGE_group\")\n",
    "plt.xlabel(\"AGE group\")\n",
    "plt.ylabel(\"Count\")\n",
    "plt.title(\"Admission Age group Discribution\", fontsize=12, weight='bold')\n",
    "plt.show()\n"
   ]
  },
  {
   "cell_type": "markdown",
   "id": "183899d4",
   "metadata": {},
   "source": [
    "# Prediction Accuracy and discrepancy rate "
   ]
  },
  {
   "cell_type": "code",
   "execution_count": 243,
   "id": "a5e6691e",
   "metadata": {},
   "outputs": [
    {
     "name": "stdout",
     "output_type": "stream",
     "text": [
      "Total number of Prediction Accuracy cases: 165 ; percent: 11.01 %\n",
      "Total number of Prediction Discrepancy cases: 1333 ; percent: 88.99 %\n",
      "Total number of Overestimated cases among Discrepancy cases : 914 percent: 68.57%\n",
      "Total number of UnderOverestimated cases among Discrepancy cases : 419 percent: 31.43%\n"
     ]
    },
    {
     "data": {
      "image/png": "[encoded data removed]",
      "text/plain": [
       "<Figure size 800x600 with 2 Axes>"
      ]
     },
     "metadata": {},
     "output_type": "display_data"
    },
    {
     "data": {
      "image/png": "[encoded data removed]",
      "text/plain": [
       "<Figure size 800x600 with 2 Axes>"
      ]
     },
     "metadata": {},
     "output_type": "display_data"
    }
   ],
   "source": [
    "acc= (lastest_df[\"prediction\"] == \"Accurate\").sum()\n",
    "discr = (lastest_df[\"prediction\"] != \"Accurate\").sum()\n",
    "acc_rate = acc/lastest_df[\"BILL_ID\"].nunique()*100\n",
    "discr_rate = discr/lastest_df[\"BILL_ID\"].nunique()*100\n",
    "over= (lastest_df[\"prediction\"] == \"Overestimated\").sum()\n",
    "under = (lastest_df[\"prediction\"] == \"Underestimated\").sum()\n",
    "\n",
    "\n",
    "\n",
    "print(\"Total number of Prediction Accuracy cases:\", acc, \";\", \"percent:\", acc_rate.round(2), \"%\")\n",
    "print(\"Total number of Prediction Discrepancy cases:\", discr, \";\", \"percent:\", discr_rate.round(2), \"%\")\n",
    "print(\"Total number of Overestimated cases among Discrepancy cases :\", over, \"percent:\", \"{:.2f}%\".format((over/discr)*100))\n",
    "print(\"Total number of UnderOverestimated cases among Discrepancy cases :\", under, \"percent:\", \"{:.2f}%\".format((under/discr)*100))\n",
    "\n",
    "# create a dataset for accurate and discrepancy\n",
    "disc_acc_df = {\"Prediction\":[\"Accurate\", \"Discrepancy\"], \"Count\":[acc,discr]}\n",
    "disc_acc_rate_df = {\"Prediction\":[\"Accurate\", \"Discrepancy\"], \"Count\":[acc_rate,discr_rate]}\n",
    "discr_df = lastest_df[lastest_df[\"prediction\"]!= \"Accurate\"]\n",
    "over_under_df = {\"Discrepancy\":[\"Overestimated\", \"Underestimated\"], \"Count\":[over/discr,under/discr]}\n",
    "\n",
    "\n",
    "plt.figure(figsize = (8,6))\n",
    "plt.subplot(1,2,1)\n",
    "sns.barplot(x = \"Prediction\", y = \"Count\", data =disc_acc_df)\n",
    "plt.ylabel(\"Count\")\n",
    "plt.title(\"Prediction\")\n",
    "\n",
    "plt.subplot(1,2,2)\n",
    "plt.pie(disc_acc_rate_df[\"Count\"], labels = disc_acc_rate_df[\"Prediction\"], autopct = \"%1.1f%%\" )\n",
    "plt.show()\n",
    "\n",
    "plt.figure(figsize = (8,6))\n",
    "plt.subplot(2,2,1)\n",
    "sns.countplot(data = discr_df, x = \"prediction\", palette= \"crest\" )\n",
    "plt.ylabel(\"Count\")\n",
    "plt.title(\"Discrepancy\")\n",
    "\n",
    "plt.subplot(2,2,2)\n",
    "plt.pie(over_under_df[\"Count\"], labels = over_under_df[\"Discrepancy\"], autopct = \"%1.1f%%\",colors = \"green\")\n",
    "plt.show()"
   ]
  },
  {
   "cell_type": "code",
   "execution_count": 244,
   "id": "03d05c55",
   "metadata": {},
   "outputs": [
    {
     "data": {
      "text/plain": [
       "count    1498.000000\n",
       "mean        0.399199\n",
       "std         5.368783\n",
       "min       -61.000000\n",
       "25%        -1.000000\n",
       "50%         1.000000\n",
       "75%         3.000000\n",
       "max        18.000000\n",
       "Name: Discrepancy_days, dtype: float64"
      ]
     },
     "execution_count": 244,
     "metadata": {},
     "output_type": "execute_result"
    }
   ],
   "source": [
    "lastest_df[\"Discrepancy_days\"].describe()"
   ]
  },
  {
   "cell_type": "markdown",
   "id": "03b5d566",
   "metadata": {},
   "source": [
    "Now, I'm interested to know who are the patients has highest over/underestimated discrepancy days.  \n",
    "\n",
    "Overestimated:  70y/o male, ALOS was 1 days. To understand why the model predicted a longer stay, further data aggregation is needed, such as patient diagnosis, discharge status (deceased, transferred to nursing home, palliative care), referral source (from A&E?), and comorbidities.\n",
    "\n",
    "Underestimated: 60y/o female, ALOS 74 days, predicted LOS 13days. In addition to gathering additional data, reviewing clinical notes from that admission may reveal if crucial information was missed, potentially not reflecting the severity of the disease. It’s also important to consider if clinical notes were stored under different specialists' or doctors' accounts."
   ]
  },
  {
   "cell_type": "code",
   "execution_count": 245,
   "id": "f00999fc",
   "metadata": {
    "scrolled": true
   },
   "outputs": [
    {
     "data": {
      "text/html": [
       "<div>\n",
       "<style scoped>\n",
       "    .dataframe tbody tr th:only-of-type {\n",
       "        vertical-align: middle;\n",
       "    }\n",
       "\n",
       "    .dataframe tbody tr th {\n",
       "        vertical-align: top;\n",
       "    }\n",
       "\n",
       "    .dataframe thead th {\n",
       "        text-align: right;\n",
       "    }\n",
       "</style>\n",
       "<table border=\"1\" class=\"dataframe\">\n",
       "  <thead>\n",
       "    <tr style=\"text-align: right;\">\n",
       "      <th></th>\n",
       "      <th>PATIENT_ID</th>\n",
       "      <th>BILL_ID</th>\n",
       "      <th>BIRTH_DATE</th>\n",
       "      <th>AGE</th>\n",
       "      <th>AGE_group</th>\n",
       "      <th>SEX</th>\n",
       "      <th>HOSP_ADMSN_TIME</th>\n",
       "      <th>HOSP_DISCH_TIME</th>\n",
       "      <th>ALOS</th>\n",
       "      <th>ELOS</th>\n",
       "      <th>Discrepancy_days</th>\n",
       "      <th>prediction</th>\n",
       "      <th>Adm_Month</th>\n",
       "      <th>ENTRY_TIME</th>\n",
       "      <th>readm_interval</th>\n",
       "      <th>pre_disch</th>\n",
       "    </tr>\n",
       "  </thead>\n",
       "  <tbody>\n",
       "    <tr>\n",
       "      <th>4399</th>\n",
       "      <td>9934504499</td>\n",
       "      <td>6061104410</td>\n",
       "      <td>1954-01-27</td>\n",
       "      <td>70</td>\n",
       "      <td>70-89</td>\n",
       "      <td>Male</td>\n",
       "      <td>2024-03-16</td>\n",
       "      <td>2024-03-17</td>\n",
       "      <td>1</td>\n",
       "      <td>19</td>\n",
       "      <td>18</td>\n",
       "      <td>Overestimated</td>\n",
       "      <td>Mar</td>\n",
       "      <td>2024-03-16 17:06:00</td>\n",
       "      <td>NaN</td>\n",
       "      <td>NaN</td>\n",
       "    </tr>\n",
       "  </tbody>\n",
       "</table>\n",
       "</div>"
      ],
      "text/plain": [
       "      PATIENT_ID     BILL_ID BIRTH_DATE  AGE AGE_group   SEX HOSP_ADMSN_TIME  \\\n",
       "4399  9934504499  6061104410 1954-01-27   70     70-89  Male      2024-03-16   \n",
       "\n",
       "     HOSP_DISCH_TIME  ALOS  ELOS  Discrepancy_days     prediction Adm_Month  \\\n",
       "4399      2024-03-17     1    19                18  Overestimated       Mar   \n",
       "\n",
       "              ENTRY_TIME  readm_interval pre_disch  \n",
       "4399 2024-03-16 17:06:00             NaN       NaN  "
      ]
     },
     "execution_count": 245,
     "metadata": {},
     "output_type": "execute_result"
    }
   ],
   "source": [
    "# largest overestimated days\n",
    "lastest_df[lastest_df[\"Discrepancy_days\"] == lastest_df[\"Discrepancy_days\"].max()]"
   ]
  },
  {
   "cell_type": "code",
   "execution_count": 246,
   "id": "03b1f8a8",
   "metadata": {},
   "outputs": [
    {
     "data": {
      "text/plain": [
       "4399    9934504499\n",
       "Name: PATIENT_ID, dtype: object"
      ]
     },
     "execution_count": 246,
     "metadata": {},
     "output_type": "execute_result"
    }
   ],
   "source": [
    "lastest_df[\"PATIENT_ID\"][lastest_df[\"PATIENT_ID\"] == \"9934504499\"]"
   ]
  },
  {
   "cell_type": "code",
   "execution_count": 247,
   "id": "36caa3c0",
   "metadata": {
    "scrolled": false
   },
   "outputs": [
    {
     "data": {
      "text/html": [
       "<div>\n",
       "<style scoped>\n",
       "    .dataframe tbody tr th:only-of-type {\n",
       "        vertical-align: middle;\n",
       "    }\n",
       "\n",
       "    .dataframe tbody tr th {\n",
       "        vertical-align: top;\n",
       "    }\n",
       "\n",
       "    .dataframe thead th {\n",
       "        text-align: right;\n",
       "    }\n",
       "</style>\n",
       "<table border=\"1\" class=\"dataframe\">\n",
       "  <thead>\n",
       "    <tr style=\"text-align: right;\">\n",
       "      <th></th>\n",
       "      <th>PATIENT_ID</th>\n",
       "      <th>BILL_ID</th>\n",
       "      <th>BIRTH_DATE</th>\n",
       "      <th>AGE</th>\n",
       "      <th>AGE_group</th>\n",
       "      <th>SEX</th>\n",
       "      <th>HOSP_ADMSN_TIME</th>\n",
       "      <th>HOSP_DISCH_TIME</th>\n",
       "      <th>ALOS</th>\n",
       "      <th>ELOS</th>\n",
       "      <th>Discrepancy_days</th>\n",
       "      <th>prediction</th>\n",
       "      <th>Adm_Month</th>\n",
       "      <th>ENTRY_TIME</th>\n",
       "      <th>readm_interval</th>\n",
       "      <th>pre_disch</th>\n",
       "    </tr>\n",
       "  </thead>\n",
       "  <tbody>\n",
       "    <tr>\n",
       "      <th>2298</th>\n",
       "      <td>4501758662</td>\n",
       "      <td>1841157657</td>\n",
       "      <td>1963-11-14</td>\n",
       "      <td>60</td>\n",
       "      <td>50-69</td>\n",
       "      <td>Female</td>\n",
       "      <td>2024-02-09</td>\n",
       "      <td>2024-04-23</td>\n",
       "      <td>74</td>\n",
       "      <td>13</td>\n",
       "      <td>-61</td>\n",
       "      <td>Underestimated</td>\n",
       "      <td>Feb</td>\n",
       "      <td>2024-04-04 00:50:00</td>\n",
       "      <td>NaN</td>\n",
       "      <td>NaN</td>\n",
       "    </tr>\n",
       "  </tbody>\n",
       "</table>\n",
       "</div>"
      ],
      "text/plain": [
       "      PATIENT_ID     BILL_ID BIRTH_DATE  AGE AGE_group     SEX  \\\n",
       "2298  4501758662  1841157657 1963-11-14   60     50-69  Female   \n",
       "\n",
       "     HOSP_ADMSN_TIME HOSP_DISCH_TIME  ALOS  ELOS  Discrepancy_days  \\\n",
       "2298      2024-02-09      2024-04-23    74    13               -61   \n",
       "\n",
       "          prediction Adm_Month          ENTRY_TIME  readm_interval pre_disch  \n",
       "2298  Underestimated       Feb 2024-04-04 00:50:00             NaN       NaN  "
      ]
     },
     "execution_count": 247,
     "metadata": {},
     "output_type": "execute_result"
    }
   ],
   "source": [
    "# largest underestimated days\n",
    "lastest_df[lastest_df[\"Discrepancy_days\"] == lastest_df[\"Discrepancy_days\"].min()]"
   ]
  },
  {
   "cell_type": "code",
   "execution_count": 248,
   "id": "8b321be2",
   "metadata": {},
   "outputs": [
    {
     "data": {
      "text/plain": [
       "2298    4501758662\n",
       "Name: PATIENT_ID, dtype: object"
      ]
     },
     "execution_count": 248,
     "metadata": {},
     "output_type": "execute_result"
    }
   ],
   "source": [
    "lastest_df[\"PATIENT_ID\"][lastest_df[\"PATIENT_ID\"] == \"4501758662\"]"
   ]
  },
  {
   "cell_type": "markdown",
   "id": "336f2c89",
   "metadata": {},
   "source": [
    "\n",
    "Both patients are not readmission record. "
   ]
  },
  {
   "cell_type": "markdown",
   "id": "1f65efd2",
   "metadata": {},
   "source": [
    "# ALOS and Discrepancy days"
   ]
  },
  {
   "cell_type": "code",
   "execution_count": 249,
   "id": "8dad1ab8",
   "metadata": {},
   "outputs": [],
   "source": [
    "\n",
    "# Define age bins and corresponding labels\n",
    "bins = [0, 3,10, 20, 30, 82 ]  # bin edges\n",
    "labels = ['0-3', \"4-10\",'11-20', '21-30', '31 above ']\n",
    "\n",
    "ALOS_group = pd.cut(lastest_df['ALOS'], bins=bins, labels=labels, right=True, include_lowest=True)\n",
    "\n",
    "lastest_df.insert(15, 'ALOS_group', ALOS_group)"
   ]
  },
  {
   "cell_type": "code",
   "execution_count": 250,
   "id": "4f6f13f1",
   "metadata": {},
   "outputs": [
    {
     "data": {
      "text/plain": [
       "Text(0, 0.5, 'Frequency')"
      ]
     },
     "execution_count": 250,
     "metadata": {},
     "output_type": "execute_result"
    },
    {
     "data": {
      "image/png": "[encoded data removed]",
      "text/plain": [
       "<Figure size 800x600 with 1 Axes>"
      ]
     },
     "metadata": {},
     "output_type": "display_data"
    }
   ],
   "source": [
    "plt.figure(figsize=(8,6))\n",
    "sns.histplot(data = lastest_df, x = \"ALOS_group\")\n",
    "plt.title(\"Frequency of ALOS group\")\n",
    "plt.xlabel(\" ALOS (days)\")\n",
    "plt.ylabel(\"Frequency\")"
   ]
  },
  {
   "cell_type": "code",
   "execution_count": 251,
   "id": "4bfc257a",
   "metadata": {},
   "outputs": [],
   "source": [
    "# sns.histplot(data = lastest_df, x = \"Discrepancy_days\", color='green')\n",
    "# plt.ylabel(\"Frequency\")\n",
    "\n",
    "bins = [-65, -10, -4, -1, 1, 3, 10, 20, 82]\n",
    "labels = ['-20 above', '-11 to -20','-10 to -4', '-3 to -1', '1-3', '4-10', '11-20', '21 above']\n",
    "\n",
    "Discrepancy_group = pd.cut(lastest_df['Discrepancy_days'], bins=bins, labels=labels, right=True, include_lowest=True)\n",
    "\n",
    "lastest_df.insert(16, 'Discrepancy_group', Discrepancy_group)"
   ]
  },
  {
   "cell_type": "code",
   "execution_count": 252,
   "id": "aaa8c6d2",
   "metadata": {},
   "outputs": [
    {
     "data": {
      "text/plain": [
       "Text(0.5, 0, 'Discrepancy days')"
      ]
     },
     "execution_count": 252,
     "metadata": {},
     "output_type": "execute_result"
    },
    {
     "data": {
      "image/png": "[encoded data removed]",
      "text/plain": [
       "<Figure size 800x600 with 1 Axes>"
      ]
     },
     "metadata": {},
     "output_type": "display_data"
    }
   ],
   "source": [
    "plt.figure(figsize = (8,6))\n",
    "sns.histplot(data = lastest_df, x = \"Discrepancy_group\", color='darkblue')\n",
    "plt.ylabel(\"Frequency\")\n",
    "plt.title (\"Frequency of Discrepancy_group \")\n",
    "plt.xlabel(\"Discrepancy days\")"
   ]
  },
  {
   "cell_type": "code",
   "execution_count": 210,
   "id": "a1c55b59",
   "metadata": {},
   "outputs": [],
   "source": [
    "# # boxpot\n",
    "# days_df = lastest_df[[\"ALOS\",\"Discrepancy_days\"]]\n",
    "# print(days_df.describe())\n",
    "\n",
    "# f, ax = plt.subplots(figsize=(10, 6))\n",
    "# sns.boxplot(data = days_df)\n",
    "# plt.ylabel(\"days\")\n",
    "# plt.title(\"ALOS vs Discrepancy days\",fontsize=12, weight='bold')\n",
    "# ax.set(ylim=(-20, 20))\n",
    "# plt.show()"
   ]
  },
  {
   "cell_type": "markdown",
   "id": "d02e0eb0",
   "metadata": {},
   "source": [
    "# Does discrepancy days vary with gender?"
   ]
  },
  {
   "cell_type": "code",
   "execution_count": 40,
   "id": "17496577",
   "metadata": {},
   "outputs": [
    {
     "data": {
      "text/plain": [
       "[(-20.0, 20.0)]"
      ]
     },
     "execution_count": 40,
     "metadata": {},
     "output_type": "execute_result"
    },
    {
     "data": {
      "image/png": "[encoded data removed]",
      "text/plain": [
       "<Figure size 1000x600 with 1 Axes>"
      ]
     },
     "metadata": {},
     "output_type": "display_data"
    }
   ],
   "source": [
    "f,ax= plt.subplots(figsize = (10,6))\n",
    "sns.boxplot(data = lastest_df, x = \"SEX\", y=\"Discrepancy_days\", palette=\"Set2\")\n",
    "plt.title(\"Discrepancy vs Gender\")\n",
    "ax.set(ylim=(-20,20))\n"
   ]
  },
  {
   "cell_type": "markdown",
   "id": "44eea467",
   "metadata": {},
   "source": [
    "# Does discrepancy days vary with age of the patient?"
   ]
  },
  {
   "cell_type": "code",
   "execution_count": 41,
   "id": "88abf9fd",
   "metadata": {},
   "outputs": [
    {
     "name": "stdout",
     "output_type": "stream",
     "text": [
      "             count      mean       std   min  25%  50%  75%   max\n",
      "AGE_group                                                        \n",
      "18-29         83.0  0.879518  2.652185  -5.0 -1.0  1.0  2.0  10.0\n",
      "30-49        204.0  0.455882  3.747316 -18.0 -1.0  1.0  2.0  12.0\n",
      "50-69        459.0  0.047930  5.740940 -61.0 -1.0  1.0  2.0  13.0\n",
      "70-89        569.0  0.562390  5.119356 -43.0 -1.0  1.0  3.0  18.0\n",
      "90 or older   80.0  0.662500  6.906141 -46.0  0.0  2.0  3.0  11.0\n"
     ]
    },
    {
     "data": {
      "image/png": "[encoded data removed]",
      "text/plain": [
       "<Figure size 1000x600 with 1 Axes>"
      ]
     },
     "metadata": {},
     "output_type": "display_data"
    }
   ],
   "source": [
    "Age_distribution_1 = Age_distribution.groupby('AGE_group')[\"Discrepancy_days\"]\n",
    "print(Age_distribution_1.describe())\n",
    "\n",
    "f, ax = plt.subplots(figsize = (10,6))\n",
    "sns.boxplot(data = Age_distribution, x = \"AGE_group\", y=\"Discrepancy_days\", palette=\"Set1\")\n",
    "plt.ylabel(\"days\")\n",
    "plt.title(\"Discrepancy days vs Age group\",fontsize=12, weight='bold' )\n",
    "ax.set(ylim=(-20, 20))\n",
    "plt.show()\n",
    "\n"
   ]
  },
  {
   "cell_type": "raw",
   "id": "4f079ae1",
   "metadata": {},
   "source": [
    "we can see age 18-89 group , the median is 1days, however, patients are age 90 and above the discrepancy days is increased  to 2days. We obeserved that the age group 70-89 tend to have slightly wider IQR , mean that higher variability of prediction compare to other age groups but there is not very obvious diffrent.\n",
    "\n",
    "the Consistent of IQR in gender and age group, telling us that the prediction model performs similarly across different age groups and gener, indicating that the model's accuracy and error distribution are not affected by age and gender."
   ]
  },
  {
   "cell_type": "code",
   "execution_count": 253,
   "id": "037d1f6a",
   "metadata": {},
   "outputs": [],
   "source": [
    "# plt.figure(figsize = (8,6))\n",
    "# sns.histplot(data = lastest_df, x = \"AGE_group\", hue = \"prediction\", multiple=\"dodge\", shrink=0.8)\n",
    "# plt.title( \"Prediction vs Age group\")"
   ]
  },
  {
   "cell_type": "markdown",
   "id": "d6378e4b",
   "metadata": {},
   "source": [
    "# Does discrepancy days vary with ALOS?"
   ]
  },
  {
   "cell_type": "code",
   "execution_count": 43,
   "id": "0ea0d8ac",
   "metadata": {},
   "outputs": [],
   "source": [
    "# create readmission interval group\n",
    "\n",
    "# Define age bins and corresponding labels\n",
    "bins = [0, 10, 20, 30,40, 82 ]  # bin edges\n",
    "labels = ['0-10', '11-20', '21-30', '31-40', '41 and above ']\n",
    "\n",
    "ALOS_group = pd.cut(lastest_df['ALOS'], bins=bins, labels=labels, right=True, include_lowest=True)\n",
    "\n",
    "lastest_df.insert(15, 'ALOS_group', ALOS_group)"
   ]
  },
  {
   "cell_type": "code",
   "execution_count": 180,
   "id": "a164e3fe",
   "metadata": {},
   "outputs": [
    {
     "data": {
      "text/plain": [
       "Text(0.5, 0, 'ALOS(days)')"
      ]
     },
     "execution_count": 180,
     "metadata": {},
     "output_type": "execute_result"
    },
    {
     "data": {
      "image/png": "[encoded data removed]",
      "text/plain": [
       "<Figure size 800x600 with 1 Axes>"
      ]
     },
     "metadata": {},
     "output_type": "display_data"
    }
   ],
   "source": [
    "plt.figure(figsize = (8,6))\n",
    "sns.boxplot(data = lastest_df, x = \"ALOS_group\", y = \"Discrepancy_days\" )\n",
    "plt.title(\"ALOS_group vs Discrepancy_days\")\n",
    "plt.xlabel(\"ALOS(days)\")"
   ]
  },
  {
   "cell_type": "markdown",
   "id": "9f25bd78",
   "metadata": {},
   "source": [
    "we can see the if patients stay longer that will it tend for model to underestimated LOS if stays more than 10days. for the ALOS group 0-10days, median discrepancy is close to 0 indicating that the predictions are fairly accurate.The interquartile range (IQR) is small, suggesting consistency in the predictions. in ALOS more than 30 days, IQR is larger than other groups which indicating more variability in predictions. As the ALOS increases, the median discrepancy tends to become more negative that the model tends to undeerestimate the length of stay more for patients with longer ALOS. suggest can do fine tuning the model for those longer LOS cases."
   ]
  },
  {
   "cell_type": "code",
   "execution_count": 182,
   "id": "52508fa8",
   "metadata": {},
   "outputs": [
    {
     "data": {
      "image/png": "[encoded data removed]",
      "text/plain": [
       "<Figure size 800x600 with 1 Axes>"
      ]
     },
     "metadata": {},
     "output_type": "display_data"
    }
   ],
   "source": [
    "ALOS_zerototen = lastest_df[lastest_df[\"ALOS_group\"].isin([\"0-3\",\"4-10\"])]\n",
    "\n",
    "plt.figure(figsize = (8,6))\n",
    "sns.countplot(data = ALOS_zerototen, x = \"Discrepancy_days\")\n",
    "plt.xlabel(\"Discrepancy days\")\n",
    "plt.ylabel(\"Count\")\n",
    "plt.title(\"Discrepancy days in <=10 days ALOS\", fontsize=12, weight='bold')\n",
    "plt.xticks(ALOS_zerototen[\"Discrepancy_days\"])\n",
    "plt.grid(axis = \"y\")\n",
    "plt.show()"
   ]
  },
  {
   "cell_type": "code",
   "execution_count": 183,
   "id": "d6e92baf",
   "metadata": {},
   "outputs": [
    {
     "data": {
      "image/png": "[encoded data removed]",
      "text/plain": [
       "<Figure size 1000x600 with 1 Axes>"
      ]
     },
     "metadata": {},
     "output_type": "display_data"
    }
   ],
   "source": [
    "ALOS_morethanten = lastest_df[~lastest_df[\"ALOS_group\"].isin([\"0-3\",\"4-10\"])]\n",
    "\n",
    "plt.figure(figsize = (10,6))\n",
    "sns.countplot(data = ALOS_morethanten, x = \"Discrepancy_days\")\n",
    "plt.xlabel(\"Discrepancy days\")\n",
    "plt.title(\"Discrepancy days in >10 days ALOS\", fontsize=12, weight='bold')\n",
    "plt.grid(axis = \"y\")\n",
    "plt.show()"
   ]
  },
  {
   "cell_type": "markdown",
   "id": "df2b2765",
   "metadata": {},
   "source": [
    "The majority of discrepancy days are negative, the model tends to underestimate the LOS for patients with ALOS > 10 days.\n",
    "The most frequent negative discrepancies are around -6, -4, -9, which -6 days being the most common (14 cases).The plot supports the trend observed in the boxplot, where longer ALOS groups tend to have more significant negative discrepancies.The variability and spread of discrepancy days observed in the plot align with the increasing IQR seen in the boxplot for higher ALOS groups."
   ]
  },
  {
   "cell_type": "markdown",
   "id": "90db9118",
   "metadata": {},
   "source": [
    "# Does discrepancy days vary with admission month?"
   ]
  },
  {
   "cell_type": "code",
   "execution_count": 254,
   "id": "c2a6104d",
   "metadata": {},
   "outputs": [
    {
     "data": {
      "image/png": "[encoded data removed]",
      "text/plain": [
       "<Figure size 1000x600 with 1 Axes>"
      ]
     },
     "metadata": {},
     "output_type": "display_data"
    }
   ],
   "source": [
    "lastest_df[\"Adm_Month\"] = pd.Categorical(lastest_df[\"Adm_Month\"])\n",
    "\n",
    "average_month = lastest_df.groupby(\"Adm_Month\")[[\"ALOS\",\"ELOS\"]].mean()\n",
    "mth_order = [\"Jan\", \"Feb\", \"Mar\"]\n",
    "average_month = average_month.reindex(mth_order)\n",
    "\n",
    "# plt.figure(figsize = (10,6))\n",
    "# average_month.plot(kind =\"bar\")\n",
    "# plt.xlabel(\"\")\n",
    "# plt.ylabel(\"days\")\n",
    "# plt.xticks(rotation = 0)\n",
    "# plt.title(\"Average days in ALOS & ELOS by Month\", fontsize=12, weight='bold' )\n",
    "\n",
    "f, ax = plt.subplots(figsize=(10, 6))\n",
    "sns.boxplot(data=lastest_df, x=\"Adm_Month\", y=\"Discrepancy_days\", order = [\"Jan\", \"Feb\",\"Mar\"])\n",
    "plt.title('Discrepancy Days by Admission Month')\n",
    "plt.xlabel('Admission Month')\n",
    "plt.ylabel('Discrepancy Days')\n",
    "plt.grid(True)\n",
    "ax.set(ylim=(-20, 20))\n",
    "plt.show()\n",
    "\n"
   ]
  },
  {
   "cell_type": "markdown",
   "id": "c03525ee",
   "metadata": {},
   "source": [
    "The median discrepancy days are similar from January to March, and the consistent Interquartile Range (IQR) suggests that the prediction model's performance is stable and unaffected by month."
   ]
  },
  {
   "cell_type": "markdown",
   "id": "4bb84985",
   "metadata": {},
   "source": [
    "# Does discrepancy days vary with readmission?"
   ]
  },
  {
   "cell_type": "code",
   "execution_count": 48,
   "id": "400e87c3",
   "metadata": {},
   "outputs": [
    {
     "name": "stdout",
     "output_type": "stream",
     "text": [
      "Total # of patients from Jan-4th April: 86\n",
      "Readmission rate:  6.16%\n",
      "Admission frequency vs patients from Jan-4th April:\n",
      " 5     1\n",
      "4     1\n",
      "3    12\n",
      "2    72\n",
      "Name: PATIENT_ID, dtype: int64\n"
     ]
    }
   ],
   "source": [
    "# looking for readmission patients\n",
    "\n",
    "\n",
    "re_admission = lastest_df[\"PATIENT_ID\"][lastest_df[\"PATIENT_ID\"].duplicated()]\n",
    "re_admission_df = lastest_df[lastest_df[\"PATIENT_ID\"].isin(re_admission)]\n",
    "re_admission_df[\"PATIENT_ID\"].nunique()\n",
    "\n",
    "admission_pt = lastest_df[\"PATIENT_ID\"].value_counts()\n",
    "readmission_pt= admission_pt[admission_pt >1]\n",
    "sorted_readm = readmission_pt.value_counts().sort_values()\n",
    "\n",
    "re_admission_num = re_admission_df[\"PATIENT_ID\"].nunique()/ lastest_df[\"PATIENT_ID\"].nunique()\n",
    "readm_rate = readmission_pt.sum()/lastest_df[\"PATIENT_ID\"].nunique()*100\n",
    "\n",
    "\n",
    "total_pt_re =re_admission_df[\"PATIENT_ID\"].nunique()\n",
    "total_visit_re = re_admission_df[\"BILL_ID\"].nunique()\n",
    "\n",
    "\n",
    "print(\"Total # of patients from Jan-4th April:\", re_admission_df[\"PATIENT_ID\"].nunique())\n",
    "# print(\"Total # of admission from Jan-4th April:\", re_admission_df[\"BILL_ID\"].nunique())\n",
    "print(\"Readmission rate: \", \"{:.2f}%\".format((re_admission_num)*100))\n",
    "print(\"Admission frequency vs patients from Jan-4th April:\\n\",sorted_readm)\n",
    "\n",
    "# plot the graph\n",
    "# pt_visit_re_df = {\"Category\":[\"Patients\", \"Readmission\"], \"Count\":[total_pt_re, total_visit_re]}\n",
    "\n",
    "# plt.figure(figsize = (8,4))\n",
    "# sns.barplot(x = \"Category\", y = \"Count\", data = pt_visit_re_df, palette = \"viridis\")\n",
    "# plt.ylabel(\"Count\")\n",
    "# plt.title(\"Total Number of Patients and Readmission\")\n",
    "# plt.show()\n",
    "\n"
   ]
  },
  {
   "cell_type": "code",
   "execution_count": 49,
   "id": "9e1e2e53",
   "metadata": {},
   "outputs": [],
   "source": [
    "# to calculate the frequency of readmission \n",
    "\n",
    "fre_readm = re_admission_df[\"PATIENT_ID\"].value_counts().reset_index()\n",
    "fre_readm.columns= [\"PATIENT_ID\",\"Frequency of readmission\"]\n",
    "\n",
    "# merge the freq data\n",
    "re_admission_df = re_admission_df.merge(fre_readm, on= \"PATIENT_ID\", how = \"left\")\n"
   ]
  },
  {
   "cell_type": "code",
   "execution_count": 50,
   "id": "b4a55438",
   "metadata": {},
   "outputs": [],
   "source": [
    "# plt.figure(figsize = (10,6))\n",
    "# sns.countplot(data = re_admission_df, x = \"Frequency of readmission\")\n",
    "# plt.title( \"Frequency of admission\")\n",
    "# plt.show()\n",
    "\n",
    "\n",
    "# plt.figure(figsize = (10,6))\n",
    "# sns.histplot(data = re_admission_df, x = \"Frequency of readmission\", hue = \"SEX\", multiple = \"dodge\", shrink=2)\n",
    "# plt.xticks(re_admission_df[\"Frequency of readmission\"])\n",
    "# plt.title( \"Frequency of admission vs Gender\")\n",
    "# plt.show()\n",
    "\n",
    "\n",
    "# plt.figure(figsize = (10,6))\n",
    "# sns.histplot(data = re_admission_df, x = \"Frequency of readmission\", hue = \"AGE_group\", multiple = \"dodge\", shrink=2)\n",
    "# plt.xticks(re_admission_df[\"Frequency of readmission\"])\n",
    "# plt.title( \"Frequency of admission vs Age group\")\n",
    "# plt.show()"
   ]
  },
  {
   "cell_type": "code",
   "execution_count": null,
   "id": "a715180a",
   "metadata": {},
   "outputs": [],
   "source": []
  },
  {
   "cell_type": "code",
   "execution_count": 255,
   "id": "740b6b78",
   "metadata": {},
   "outputs": [],
   "source": [
    "# f, ax = plt.subplots(figsize=(10, 6))\n",
    "# sns.boxplot(data=re_admission_df, x=\"Frequency of readmission\", y=\"Discrepancy_days\")\n",
    "# plt.title('Discrepancy Days vs Frequency of readmission')\n",
    "# plt.xlabel('Frequency of admssion')\n",
    "# plt.ylabel('Discrepancy Days')\n",
    "# plt.grid(True)\n",
    "# ax.set(ylim=(-20, 20))\n",
    "# plt.show()\n"
   ]
  },
  {
   "cell_type": "code",
   "execution_count": 52,
   "id": "e8d12828",
   "metadata": {},
   "outputs": [],
   "source": [
    "# create readmission interval group\n",
    "\n",
    "# Define age bins and corresponding labels\n",
    "bins = [0, 3, 10, 20, 30, 82 ]  # bin edges\n",
    "labels = ['0-3', '4-10', '11-20', '21-30', '>31 ']\n",
    "\n",
    "readm_interval_group = pd.cut(re_admission_df['readm_interval'], bins=bins, labels=labels, right=True, include_lowest=True)\n",
    "\n",
    "re_admission_df.insert(14, 'readm_interval_group', readm_interval_group)\n"
   ]
  },
  {
   "cell_type": "code",
   "execution_count": 262,
   "id": "77d4384f",
   "metadata": {},
   "outputs": [
    {
     "data": {
      "text/plain": [
       "Text(0.5, 1.0, 'Frequency of readmision interval')"
      ]
     },
     "execution_count": 262,
     "metadata": {},
     "output_type": "execute_result"
    },
    {
     "data": {
      "image/png": "[encoded data removed]",
      "text/plain": [
       "<Figure size 800x600 with 1 Axes>"
      ]
     },
     "metadata": {},
     "output_type": "display_data"
    }
   ],
   "source": [
    "plt.figure(figsize = (8,6))\n",
    "\n",
    "sns.countplot(data = re_admission_df, x = \"readm_interval_group\")\n",
    "plt.xlabel(\"readmission interval (day)\")\n",
    "plt.title(\"Frequency of readmision interval\")\n",
    "\n",
    "# plt.subplot(1,2,2)\n",
    "# sns.countplot(data = re_admission_df, x = \"readm_interval_group\", hue = \"AGE_group\", palette= \"Set1\", width=1)\n",
    "# plt.ylabel(\"\")\n",
    "# plt.xlabel(\"readmission interval (day)\")\n",
    "# plt.show()"
   ]
  },
  {
   "cell_type": "code",
   "execution_count": 54,
   "id": "bf3b3201",
   "metadata": {},
   "outputs": [
    {
     "data": {
      "image/png": "[encoded data removed]",
      "text/plain": [
       "<Figure size 1000x600 with 1 Axes>"
      ]
     },
     "metadata": {},
     "output_type": "display_data"
    }
   ],
   "source": [
    "plt.figure(figsize=(10, 6))\n",
    "sns.boxplot(data=re_admission_df, x=\"readm_interval_group\", y=\"Discrepancy_days\")\n",
    "plt.title('Discrepancy Days vs readm_interval')\n",
    "plt.xlabel('readm_interval (days)')\n",
    "plt.ylabel('Discrepancy Days')\n",
    "plt.grid(True)\n",
    "plt.show()"
   ]
  },
  {
   "cell_type": "markdown",
   "id": "5fbe7ad5",
   "metadata": {},
   "source": [
    "Predictions are generally more accurate for readmission intervals of 0-3 days, .the IQR is narrow in 0-3days group, low variability in predictions. 11-20 days as median is closed to 0.\n",
    "There is higher spread of the discrepancy days at 1-9 days in middle 50% data and a tendency to underestimate LOS for the 11-20 days readmission interval group.The model should be fine-tuned to reduce underestimation, especially for the 11-20 days readmission interval group."
   ]
  },
  {
   "cell_type": "markdown",
   "id": "57a91d28",
   "metadata": {},
   "source": [
    "2 main findings that related to discrepancy days:\n",
    "\n",
    "    1. ALOS: As the ALOS increases, the median discrepancy tends to become more negative that the model tends to undeerestimate the length of stay more for patients with longer ALOS.more than 10days onwards.There may be factors or complexities in longer hospital stays that the model does not fully capture, leading to a systematic underestimation in these cases.\n",
    "    \n",
    "    2.readmission interval: model can prediction well and stable in readmission interval less than 3 days. for readmission within 11-20days, model tend to have higher variability of prediction. The variability suggests that there are factors influencing readmissions within this timeframe that the model struggles to consistently predict. Further investigation into these factors could help improve prediction accuracy.\n",
    "    \n",
    "in addition, there are significant number of outliers in this cohort. To address these above findings effectively, further data collection is recommended.  This should include additional information such as patient diagnosis, comorbidities, discharge status, and referral sources. These additional data points could provide insights into why certain cases deviate significantly from the model predictions"
   ]
  },
  {
   "cell_type": "code",
   "execution_count": 263,
   "id": "959c0f9d",
   "metadata": {},
   "outputs": [
    {
     "data": {
      "text/plain": [
       "Text(0.5, 0, 'ALOS(days)')"
      ]
     },
     "execution_count": 263,
     "metadata": {},
     "output_type": "execute_result"
    },
    {
     "data": {
      "image/png": "[encoded data removed]",
      "text/plain": [
       "<Figure size 800x600 with 1 Axes>"
      ]
     },
     "metadata": {},
     "output_type": "display_data"
    }
   ],
   "source": [
    "plt.figure(figsize = (8,6))\n",
    "sns.boxplot(data = lastest_df, x = \"ALOS_group\", y = \"Discrepancy_days\" )\n",
    "plt.title(\"ALOS_group vs Discrepancy_days\")\n",
    "plt.xlabel(\"ALOS(days)\")"
   ]
  },
  {
   "cell_type": "code",
   "execution_count": null,
   "id": "7288b2b1",
   "metadata": {},
   "outputs": [],
   "source": []
  },
  {
   "cell_type": "code",
   "execution_count": null,
   "id": "d8c3132a",
   "metadata": {},
   "outputs": [],
   "source": []
  },
  {
   "cell_type": "code",
   "execution_count": null,
   "id": "215adb4e",
   "metadata": {},
   "outputs": [],
   "source": []
  },
  {
   "cell_type": "code",
   "execution_count": null,
   "id": "ae4641b4",
   "metadata": {},
   "outputs": [],
   "source": []
  }
 ],
 "metadata": {
  "kernelspec": {
   "display_name": "Python 3 (ipykernel)",
   "language": "python",
   "name": "python3"
  },
  "language_info": {
   "codemirror_mode": {
    "name": "ipython",
    "version": 3
   },
   "file_extension": ".py",
   "mimetype": "text/x-python",
   "name": "python",
   "nbconvert_exporter": "python",
   "pygments_lexer": "ipython3",
   "version": "3.11.3"
  }
 },
 "nbformat": 4,
 "nbformat_minor": 5
}
